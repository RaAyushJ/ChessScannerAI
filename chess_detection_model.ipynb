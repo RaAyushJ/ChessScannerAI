{
  "nbformat": 4,
  "nbformat_minor": 0,
  "metadata": {
    "colab": {
      "provenance": [],
      "gpuType": "T4"
    },
    "kernelspec": {
      "name": "python3",
      "display_name": "Python 3"
    },
    "language_info": {
      "name": "python"
    },
    "accelerator": "GPU"
  },
  "cells": [
    {
      "cell_type": "code",
      "execution_count": 16,
      "metadata": {
        "colab": {
          "base_uri": "https://localhost:8080/"
        },
        "id": "96LwGb35MRtX",
        "outputId": "6a02e228-b345-4068-fa8d-f9606edaf0e9"
      },
      "outputs": [
        {
          "output_type": "stream",
          "name": "stdout",
          "text": [
            "✅ Archive extracted to: /content/chess_yolo_dataset\n"
          ]
        }
      ],
      "source": [
        "import zipfile\n",
        "\n",
        "zip_path = \"/content/archive(7).zip\"\n",
        "extract_path = \"/content/chess_yolo_dataset\"\n",
        "\n",
        "with zipfile.ZipFile(zip_path, 'r') as zip_ref:\n",
        "    zip_ref.extractall(extract_path)\n",
        "\n",
        "print(\"✅ Archive extracted to:\", extract_path)\n"
      ]
    },
    {
      "cell_type": "code",
      "source": [
        "import os\n",
        "\n",
        "for root, dirs, files in os.walk(extract_path):\n",
        "    print(f\"📂 {root} — {len(files)} files\")\n",
        "    for f in files[:5]:  # preview first 5\n",
        "        print(\"  🖼️\", f)\n",
        "    break\n"
      ],
      "metadata": {
        "colab": {
          "base_uri": "https://localhost:8080/"
        },
        "id": "i0pU63GmOLX3",
        "outputId": "d91695bf-2ca8-4934-da09-8faf36f0038a"
      },
      "execution_count": 17,
      "outputs": [
        {
          "output_type": "stream",
          "name": "stdout",
          "text": [
            "📂 /content/chess_yolo_dataset — 0 files\n"
          ]
        }
      ]
    },
    {
      "cell_type": "code",
      "source": [
        "from zipfile import ZipFile\n",
        "\n",
        "zip_path = '/content/archive(7).zip'\n",
        "print(f\"Listing files in {zip_path}\")\n",
        "\n",
        "with ZipFile(zip_path, 'r') as zip_ref:\n",
        "    file_list = zip_ref.namelist()\n",
        "    print(f\"Found {len(file_list)} files in the zip.\")\n",
        "    print(\"\\nPreview of files related to 'valid/images':\")\n",
        "    found_valid_images = False\n",
        "    for name in file_list:\n",
        "        if 'valid/images' in name:\n",
        "             print(\"📄\", name)\n",
        "             found_valid_images = True\n",
        "\n",
        "    if not found_valid_images:\n",
        "        print(\"⚠️ No files found containing 'valid/images' in their path.\")\n",
        "\n",
        "    print(\"\\nPreview of first 20 files in the zip:\")\n",
        "    for name in file_list[:20]:  # preview first 20 files\n",
        "        print(\"📄\", name)"
      ],
      "metadata": {
        "colab": {
          "base_uri": "https://localhost:8080/"
        },
        "id": "wseXGZa8OjiD",
        "outputId": "214b8b1a-1067-4c0a-c9f9-3811023c686f"
      },
      "execution_count": 18,
      "outputs": [
        {
          "output_type": "stream",
          "name": "stdout",
          "text": [
            "Listing files in /content/archive(7).zip\n",
            "Found 3475 files in the zip.\n",
            "\n",
            "Preview of files related to 'valid/images':\n",
            "📄 Chess Pieces.yolov8-obb/valid/images/05ad7223827a29a8283f6c4b2490f52f_jpg.rf.7c134acea5ef5e18aa75defc069dc1ee.jpg\n",
            "📄 Chess Pieces.yolov8-obb/valid/images/0b2252c93c53e1b2e61d485b22328e2e_jpg.rf.0a885b88adc72caa71b0aa0ec20b863e.jpg\n",
            "📄 Chess Pieces.yolov8-obb/valid/images/0c09b79cff39932c59ecc745dd827906_jpg.rf.dd62f1f1d28dd2209e0cfe61288f6438.jpg\n",
            "📄 Chess Pieces.yolov8-obb/valid/images/0d9afc3d23392c3958f53d7fe71fd2f1_jpg.rf.ca639b6fd216ff59ed8fd5572c13985f.jpg\n",
            "📄 Chess Pieces.yolov8-obb/valid/images/15cc23c777b00d0e123f9df468f2852b_jpg.rf.ec883ea8696547433314cdd8f2c177bf.jpg\n",
            "📄 Chess Pieces.yolov8-obb/valid/images/18742c87a03866e042c5659ba04d1180_jpg.rf.ec846d30e3eebb02abb8056342b9de32.jpg\n",
            "📄 Chess Pieces.yolov8-obb/valid/images/1b7c1c9570e900f75eb974f99cbb3c60_jpg.rf.ec7b31959243b9f7a54b7c3ea89dbce6.jpg\n",
            "📄 Chess Pieces.yolov8-obb/valid/images/1be2a621f309c7482e9a79ad5b23ecbe_jpg.rf.e4117f6396582d8058dbd15974e30b04.jpg\n",
            "📄 Chess Pieces.yolov8-obb/valid/images/26fa37995fa5b18ec40e0a94e6d91104_jpg.rf.2e6b063142cfe7cbcc21b0a236e5699f.jpg\n",
            "📄 Chess Pieces.yolov8-obb/valid/images/302e7c10664be32b4fc000452149027c_jpg.rf.9e3b8da2de02c1fe13ae9b9bf0d28d00.jpg\n",
            "📄 Chess Pieces.yolov8-obb/valid/images/31b83afa654d5dd874c3f0111126ab7f_jpg.rf.3b3c671f839cb2dd6a6a21e3f5c5c195.jpg\n",
            "📄 Chess Pieces.yolov8-obb/valid/images/3312e3bb60e338e9c1a614f0f8960dd8_jpg.rf.f85b2ac2635f38532147b8c2c8888562.jpg\n",
            "📄 Chess Pieces.yolov8-obb/valid/images/33b66ede234715fb46db40b33c4e26c1_jpg.rf.d931a220452e1914ad5a8cf80bdd5b9a.jpg\n",
            "📄 Chess Pieces.yolov8-obb/valid/images/3aafc2d38807dddd1b43a54cb70f500d_jpg.rf.ed2b0d06c11e2ecfad6a696932579d82.jpg\n",
            "📄 Chess Pieces.yolov8-obb/valid/images/3baf85c957b9d28a16c0b65cb2ef0d29_jpg.rf.712429bc0be682ad0038cbc6beb3fd30.jpg\n",
            "📄 Chess Pieces.yolov8-obb/valid/images/3e0c67f38992fe16dfc163f7f5336263_jpg.rf.4a1c5c9f4cfd6b460d9af2d4c7a870bb.jpg\n",
            "📄 Chess Pieces.yolov8-obb/valid/images/424d6506342fa2471e71586675ed092c_jpg.rf.bc9f3f76f36c5ba58869c652f918bd12.jpg\n",
            "📄 Chess Pieces.yolov8-obb/valid/images/495019998442ddf85b59e387d4916cd3_jpg.rf.3d9dd252951539310c6d9e3db7d3a058.jpg\n",
            "📄 Chess Pieces.yolov8-obb/valid/images/4b8f93069270a9f7bb523518a5088b9e_jpg.rf.7d0d7a337008fbfde0ab2c55715e7782.jpg\n",
            "📄 Chess Pieces.yolov8-obb/valid/images/55be99616328f83dcbfe8c18e1387c0e_jpg.rf.bb349a21b80bcc7480f4d405a6a3e212.jpg\n",
            "📄 Chess Pieces.yolov8-obb/valid/images/578029c06939a788cd5606ad17b49fb9_jpg.rf.4e9ef7a78c1923865c9bdd316a04a31e.jpg\n",
            "📄 Chess Pieces.yolov8-obb/valid/images/57d1d1fb35ed875f9e770660bb03b6d7_jpg.rf.35a16500fc22fb8c6e59b86172462258.jpg\n",
            "📄 Chess Pieces.yolov8-obb/valid/images/5c19d3260762f5daa632d952bc0074d6_jpg.rf.250c45a5fed7c606ee8fe28810a219a2.jpg\n",
            "📄 Chess Pieces.yolov8-obb/valid/images/64061fd2e0e35bdf9ac4681eddf5fa2a_jpg.rf.507d0638d0f0eabeb8c7227bb0041d0c.jpg\n",
            "📄 Chess Pieces.yolov8-obb/valid/images/6859628a422c1b72be8b074841cd943e_jpg.rf.968f3643f5879a632d14b7707ee9ae3a.jpg\n",
            "📄 Chess Pieces.yolov8-obb/valid/images/6a41b6c8201604216ad196f842c6a2c6_jpg.rf.60a06c4ff4af59f4f5f269361528d41d.jpg\n",
            "📄 Chess Pieces.yolov8-obb/valid/images/6e2dd4604b3a51d9be11b8809ed03803_jpg.rf.f1371efe107cc6d72c36f2b5d4702d66.jpg\n",
            "📄 Chess Pieces.yolov8-obb/valid/images/73e6a751c50604d017541c11b28d8417_jpg.rf.cdbbf1901e916db82ec096334e0306f9.jpg\n",
            "📄 Chess Pieces.yolov8-obb/valid/images/793c79d55c8a252b7a954d074b1d6498_jpg.rf.7ce67d4997eb368ce3bfea9242c64c22.jpg\n",
            "📄 Chess Pieces.yolov8-obb/valid/images/7e862b85e33cd247ed66447d129e5fb4_jpg.rf.7d29881ed3ccce2f9e308e2aa3b20671.jpg\n",
            "📄 Chess Pieces.yolov8-obb/valid/images/7e97f49e613a59a70b833e4c0b2c1c04_jpg.rf.4521f7f4426d59e3817609ee10e78393.jpg\n",
            "📄 Chess Pieces.yolov8-obb/valid/images/86afe95de5471af5cef08e6ae4d9acbb_jpg.rf.7fab5dee0bfa346e21a5d46fa4735718.jpg\n",
            "📄 Chess Pieces.yolov8-obb/valid/images/8ec14357f5f18fb98db86e0283623150_jpg.rf.e596c4a36a89232f3732dc54b8248b78.jpg\n",
            "📄 Chess Pieces.yolov8-obb/valid/images/9453c2097cb4ccc676e273939894b3da_jpg.rf.e4bb464448488954193bf6be4f4735bb.jpg\n",
            "📄 Chess Pieces.yolov8-obb/valid/images/97ed198b00b5491747d3b425df8e7096_jpg.rf.8a8bce7ab7eabebb86cfb86bd4046c6e.jpg\n",
            "📄 Chess Pieces.yolov8-obb/valid/images/IMG_0293_JPG.rf.e208f5cdf5e993c552be7f96e86c4890.jpg\n",
            "📄 Chess Pieces.yolov8-obb/valid/images/IMG_0310_JPG.rf.fa4dfa05ea9b136a2afc53556d90adb9.jpg\n",
            "📄 Chess Pieces.yolov8-obb/valid/images/IMG_0311_JPG.rf.60bdeddd1d81863f576805705dee0049.jpg\n",
            "📄 Chess Pieces.yolov8-obb/valid/images/IMG_0319_JPG.rf.d526046fd4cf10ed7b549a10fa4424eb.jpg\n",
            "📄 Chess Pieces.yolov8-obb/valid/images/IMG_0320_JPG.rf.2a69b00c4e2299736c81954089818448.jpg\n",
            "📄 Chess Pieces.yolov8-obb/valid/images/abd65798d9952a27e087710eb8bddf32_jpg.rf.4c9ed4ea8f55c6b3b1b007060029a15f.jpg\n",
            "📄 Chess Pieces.yolov8-obb/valid/images/aec1aa6773dbbe004554f405cdef2bea_jpg.rf.2775fd3d7d8d1dfacea70de121d91437.jpg\n",
            "📄 Chess Pieces.yolov8-obb/valid/images/bb0de9761d16eee258ae09d8de32002c_jpg.rf.f97067be0b27db05f0ac03d9d8cb1185.jpg\n",
            "📄 Chess Pieces.yolov8-obb/valid/images/c1f800417bc42263d141b5ed785e7707_jpg.rf.f06111d09b042ba2d50e1ec17282bcf4.jpg\n",
            "📄 Chess Pieces.yolov8-obb/valid/images/c20ca9283ea51ac7707905894a7da703_jpg.rf.f54294c5288d49c907732317c5702df8.jpg\n",
            "📄 Chess Pieces.yolov8-obb/valid/images/c5172afbdad90854b3d0f21a923c0c69_jpg.rf.386387aecfb48c3a8a6650741541186e.jpg\n",
            "📄 Chess Pieces.yolov8-obb/valid/images/ca6484c259f286c5bdf1afefc868b753_jpg.rf.eea24b286861e0da208ff0b8eb49e1c9.jpg\n",
            "📄 Chess Pieces.yolov8-obb/valid/images/d114edc5cb4cae0ceb2f152afd15f57d_jpg.rf.fa2760e7c7663ed523265248c14b35ea.jpg\n",
            "📄 Chess Pieces.yolov8-obb/valid/images/d3b9309d00a2b671407b918ea867a935_jpg.rf.5e1400d76ea181788b7defd2f5d64254.jpg\n",
            "📄 Chess Pieces.yolov8-obb/valid/images/d4f7caf01359b9a757c930140f746fad_jpg.rf.888c6dd3e17e20ce9ed6ec4023fec3c0.jpg\n",
            "📄 Chess Pieces.yolov8-obb/valid/images/d6e283a49b0395a6d5867c9e98e32045_jpg.rf.78b022c1aa0a30727326b7962789a9aa.jpg\n",
            "📄 Chess Pieces.yolov8-obb/valid/images/d9ef98145d7d35393c75a51331a20e2c_jpg.rf.44441521d89767a579e4c3f3ab44d4a8.jpg\n",
            "📄 Chess Pieces.yolov8-obb/valid/images/e1616dc9962fed075576ac4ea3553f51_jpg.rf.23145974270bfe4d2f07d2a73ead9923.jpg\n",
            "📄 Chess Pieces.yolov8-obb/valid/images/e53bf8a0e692a4ccd5f1dc2bc19e7751_jpg.rf.a8b866893eddbe54b209aa055984e2e6.jpg\n",
            "📄 Chess Pieces.yolov8-obb/valid/images/e7edc4f1b8d3cc1069b96d0358e066c9_jpg.rf.6583bdfbb3f6a620fe8776c0d853b09d.jpg\n",
            "📄 Chess Pieces.yolov8-obb/valid/images/ec418cafd39d7c5a69cc0642a08b2a08_jpg.rf.5839dd7f1ccc537af7096a6b0bd49c56.jpg\n",
            "📄 Chess Pieces.yolov8-obb/valid/images/eca42980852e6c5db10ee84aac23f9c6_jpg.rf.db5f4506ccda27fa11dd4ff5a08c584f.jpg\n",
            "📄 Chess Pieces.yolov8-obb/valid/images/fb7d97265a22bb1c1f908dadc6f9e7dc_jpg.rf.c13e9b9b285eb421655b59cef73afe1d.jpg\n",
            "📄 Chess_pieces/valid/images/05ad7223827a29a8283f6c4b2490f52f_jpg.rf.7c134acea5ef5e18aa75defc069dc1ee.jpg\n",
            "📄 Chess_pieces/valid/images/0b2252c93c53e1b2e61d485b22328e2e_jpg.rf.0a885b88adc72caa71b0aa0ec20b863e.jpg\n",
            "📄 Chess_pieces/valid/images/0c09b79cff39932c59ecc745dd827906_jpg.rf.dd62f1f1d28dd2209e0cfe61288f6438.jpg\n",
            "📄 Chess_pieces/valid/images/0d9afc3d23392c3958f53d7fe71fd2f1_jpg.rf.ca639b6fd216ff59ed8fd5572c13985f.jpg\n",
            "📄 Chess_pieces/valid/images/15cc23c777b00d0e123f9df468f2852b_jpg.rf.ec883ea8696547433314cdd8f2c177bf.jpg\n",
            "📄 Chess_pieces/valid/images/18742c87a03866e042c5659ba04d1180_jpg.rf.ec846d30e3eebb02abb8056342b9de32.jpg\n",
            "📄 Chess_pieces/valid/images/1b7c1c9570e900f75eb974f99cbb3c60_jpg.rf.ec7b31959243b9f7a54b7c3ea89dbce6.jpg\n",
            "📄 Chess_pieces/valid/images/1be2a621f309c7482e9a79ad5b23ecbe_jpg.rf.e4117f6396582d8058dbd15974e30b04.jpg\n",
            "📄 Chess_pieces/valid/images/26fa37995fa5b18ec40e0a94e6d91104_jpg.rf.2e6b063142cfe7cbcc21b0a236e5699f.jpg\n",
            "📄 Chess_pieces/valid/images/302e7c10664be32b4fc000452149027c_jpg.rf.9e3b8da2de02c1fe13ae9b9bf0d28d00.jpg\n",
            "📄 Chess_pieces/valid/images/31b83afa654d5dd874c3f0111126ab7f_jpg.rf.3b3c671f839cb2dd6a6a21e3f5c5c195.jpg\n",
            "📄 Chess_pieces/valid/images/3312e3bb60e338e9c1a614f0f8960dd8_jpg.rf.f85b2ac2635f38532147b8c2c8888562.jpg\n",
            "📄 Chess_pieces/valid/images/33b66ede234715fb46db40b33c4e26c1_jpg.rf.d931a220452e1914ad5a8cf80bdd5b9a.jpg\n",
            "📄 Chess_pieces/valid/images/3aafc2d38807dddd1b43a54cb70f500d_jpg.rf.ed2b0d06c11e2ecfad6a696932579d82.jpg\n",
            "📄 Chess_pieces/valid/images/3baf85c957b9d28a16c0b65cb2ef0d29_jpg.rf.712429bc0be682ad0038cbc6beb3fd30.jpg\n",
            "📄 Chess_pieces/valid/images/3e0c67f38992fe16dfc163f7f5336263_jpg.rf.4a1c5c9f4cfd6b460d9af2d4c7a870bb.jpg\n",
            "📄 Chess_pieces/valid/images/424d6506342fa2471e71586675ed092c_jpg.rf.bc9f3f76f36c5ba58869c652f918bd12.jpg\n",
            "📄 Chess_pieces/valid/images/495019998442ddf85b59e387d4916cd3_jpg.rf.3d9dd252951539310c6d9e3db7d3a058.jpg\n",
            "📄 Chess_pieces/valid/images/4b8f93069270a9f7bb523518a5088b9e_jpg.rf.7d0d7a337008fbfde0ab2c55715e7782.jpg\n",
            "📄 Chess_pieces/valid/images/55be99616328f83dcbfe8c18e1387c0e_jpg.rf.bb349a21b80bcc7480f4d405a6a3e212.jpg\n",
            "📄 Chess_pieces/valid/images/578029c06939a788cd5606ad17b49fb9_jpg.rf.4e9ef7a78c1923865c9bdd316a04a31e.jpg\n",
            "📄 Chess_pieces/valid/images/57d1d1fb35ed875f9e770660bb03b6d7_jpg.rf.35a16500fc22fb8c6e59b86172462258.jpg\n",
            "📄 Chess_pieces/valid/images/5c19d3260762f5daa632d952bc0074d6_jpg.rf.250c45a5fed7c606ee8fe28810a219a2.jpg\n",
            "📄 Chess_pieces/valid/images/64061fd2e0e35bdf9ac4681eddf5fa2a_jpg.rf.507d0638d0f0eabeb8c7227bb0041d0c.jpg\n",
            "📄 Chess_pieces/valid/images/6859628a422c1b72be8b074841cd943e_jpg.rf.968f3643f5879a632d14b7707ee9ae3a.jpg\n",
            "📄 Chess_pieces/valid/images/6a41b6c8201604216ad196f842c6a2c6_jpg.rf.60a06c4ff4af59f4f5f269361528d41d.jpg\n",
            "📄 Chess_pieces/valid/images/6e2dd4604b3a51d9be11b8809ed03803_jpg.rf.f1371efe107cc6d72c36f2b5d4702d66.jpg\n",
            "📄 Chess_pieces/valid/images/73e6a751c50604d017541c11b28d8417_jpg.rf.cdbbf1901e916db82ec096334e0306f9.jpg\n",
            "📄 Chess_pieces/valid/images/793c79d55c8a252b7a954d074b1d6498_jpg.rf.7ce67d4997eb368ce3bfea9242c64c22.jpg\n",
            "📄 Chess_pieces/valid/images/7e862b85e33cd247ed66447d129e5fb4_jpg.rf.7d29881ed3ccce2f9e308e2aa3b20671.jpg\n",
            "📄 Chess_pieces/valid/images/7e97f49e613a59a70b833e4c0b2c1c04_jpg.rf.4521f7f4426d59e3817609ee10e78393.jpg\n",
            "📄 Chess_pieces/valid/images/86afe95de5471af5cef08e6ae4d9acbb_jpg.rf.7fab5dee0bfa346e21a5d46fa4735718.jpg\n",
            "📄 Chess_pieces/valid/images/8ec14357f5f18fb98db86e0283623150_jpg.rf.e596c4a36a89232f3732dc54b8248b78.jpg\n",
            "📄 Chess_pieces/valid/images/9453c2097cb4ccc676e273939894b3da_jpg.rf.e4bb464448488954193bf6be4f4735bb.jpg\n",
            "📄 Chess_pieces/valid/images/97ed198b00b5491747d3b425df8e7096_jpg.rf.8a8bce7ab7eabebb86cfb86bd4046c6e.jpg\n",
            "📄 Chess_pieces/valid/images/IMG_0293_JPG.rf.e208f5cdf5e993c552be7f96e86c4890.jpg\n",
            "📄 Chess_pieces/valid/images/IMG_0310_JPG.rf.fa4dfa05ea9b136a2afc53556d90adb9.jpg\n",
            "📄 Chess_pieces/valid/images/IMG_0311_JPG.rf.60bdeddd1d81863f576805705dee0049.jpg\n",
            "📄 Chess_pieces/valid/images/IMG_0319_JPG.rf.d526046fd4cf10ed7b549a10fa4424eb.jpg\n",
            "📄 Chess_pieces/valid/images/IMG_0320_JPG.rf.2a69b00c4e2299736c81954089818448.jpg\n",
            "📄 Chess_pieces/valid/images/abd65798d9952a27e087710eb8bddf32_jpg.rf.4c9ed4ea8f55c6b3b1b007060029a15f.jpg\n",
            "📄 Chess_pieces/valid/images/aec1aa6773dbbe004554f405cdef2bea_jpg.rf.2775fd3d7d8d1dfacea70de121d91437.jpg\n",
            "📄 Chess_pieces/valid/images/bb0de9761d16eee258ae09d8de32002c_jpg.rf.f97067be0b27db05f0ac03d9d8cb1185.jpg\n",
            "📄 Chess_pieces/valid/images/c1f800417bc42263d141b5ed785e7707_jpg.rf.f06111d09b042ba2d50e1ec17282bcf4.jpg\n",
            "📄 Chess_pieces/valid/images/c20ca9283ea51ac7707905894a7da703_jpg.rf.f54294c5288d49c907732317c5702df8.jpg\n",
            "📄 Chess_pieces/valid/images/c5172afbdad90854b3d0f21a923c0c69_jpg.rf.386387aecfb48c3a8a6650741541186e.jpg\n",
            "📄 Chess_pieces/valid/images/ca6484c259f286c5bdf1afefc868b753_jpg.rf.eea24b286861e0da208ff0b8eb49e1c9.jpg\n",
            "📄 Chess_pieces/valid/images/d114edc5cb4cae0ceb2f152afd15f57d_jpg.rf.fa2760e7c7663ed523265248c14b35ea.jpg\n",
            "📄 Chess_pieces/valid/images/d3b9309d00a2b671407b918ea867a935_jpg.rf.5e1400d76ea181788b7defd2f5d64254.jpg\n",
            "📄 Chess_pieces/valid/images/d4f7caf01359b9a757c930140f746fad_jpg.rf.888c6dd3e17e20ce9ed6ec4023fec3c0.jpg\n",
            "📄 Chess_pieces/valid/images/d6e283a49b0395a6d5867c9e98e32045_jpg.rf.78b022c1aa0a30727326b7962789a9aa.jpg\n",
            "📄 Chess_pieces/valid/images/d9ef98145d7d35393c75a51331a20e2c_jpg.rf.44441521d89767a579e4c3f3ab44d4a8.jpg\n",
            "📄 Chess_pieces/valid/images/e1616dc9962fed075576ac4ea3553f51_jpg.rf.23145974270bfe4d2f07d2a73ead9923.jpg\n",
            "📄 Chess_pieces/valid/images/e53bf8a0e692a4ccd5f1dc2bc19e7751_jpg.rf.a8b866893eddbe54b209aa055984e2e6.jpg\n",
            "📄 Chess_pieces/valid/images/e7edc4f1b8d3cc1069b96d0358e066c9_jpg.rf.6583bdfbb3f6a620fe8776c0d853b09d.jpg\n",
            "📄 Chess_pieces/valid/images/ec418cafd39d7c5a69cc0642a08b2a08_jpg.rf.5839dd7f1ccc537af7096a6b0bd49c56.jpg\n",
            "📄 Chess_pieces/valid/images/eca42980852e6c5db10ee84aac23f9c6_jpg.rf.db5f4506ccda27fa11dd4ff5a08c584f.jpg\n",
            "📄 Chess_pieces/valid/images/fb7d97265a22bb1c1f908dadc6f9e7dc_jpg.rf.c13e9b9b285eb421655b59cef73afe1d.jpg\n",
            "\n",
            "Preview of first 20 files in the zip:\n",
            "📄 Chess Pieces.yolov8-obb/README.dataset.txt\n",
            "📄 Chess Pieces.yolov8-obb/README.roboflow.txt\n",
            "📄 Chess Pieces.yolov8-obb/data.yaml\n",
            "📄 Chess Pieces.yolov8-obb/test/images/0b47311f426ff926578c9d738d683e76_jpg.rf.40183eae584a653181bbd795ba3c353f.jpg\n",
            "📄 Chess Pieces.yolov8-obb/test/images/1c0060ef868bdc326ce5e6389cb6732f_jpg.rf.f02cd668d26a53d9bf001497992b3657.jpg\n",
            "📄 Chess Pieces.yolov8-obb/test/images/2f6fb003bb89cd401322a535acb42f65_jpg.rf.66c0a46773a9cd583fb96c3df41a9e0c.jpg\n",
            "📄 Chess Pieces.yolov8-obb/test/images/410993714e325a1de3e394ffe860df3a_jpg.rf.657c49ca295ef54da23469189070a075.jpg\n",
            "📄 Chess Pieces.yolov8-obb/test/images/4e3117459d759798537eb52cf5bf534d_jpg.rf.ec961b62d4b0e131fae760ed1f80836b.jpg\n",
            "📄 Chess Pieces.yolov8-obb/test/images/5a35ba2ec3e0d0b2b12b1758a8ac29aa_jpg.rf.9dbdb057f6533c0c09c0eda0747fbc9e.jpg\n",
            "📄 Chess Pieces.yolov8-obb/test/images/654bb8835258b26c466b1c19893df451_jpg.rf.55fb7f23a4422a80793f01e152fabe4d.jpg\n",
            "📄 Chess Pieces.yolov8-obb/test/images/685b860d412b91f5d4f7f9e643b84452_jpg.rf.2d78193e4021ae5ffb49ecd1060bebd7.jpg\n",
            "📄 Chess Pieces.yolov8-obb/test/images/73a38a5c8f8f1b09f093f304660d5326_jpg.rf.65192fc4204952bfd1121ee212aade1e.jpg\n",
            "📄 Chess Pieces.yolov8-obb/test/images/749e9074a77f8d34d86e2218f26cdab4_jpg.rf.b39c00c032a7ecbb62b8792bbe05497e.jpg\n",
            "📄 Chess Pieces.yolov8-obb/test/images/7a34d8620235048917b28bcfd3b5572b_jpg.rf.450c577e3be66b5232c54ffc9ec9e6b7.jpg\n",
            "📄 Chess Pieces.yolov8-obb/test/images/8ff752f9ed443e6e49d495abfceb2032_jpg.rf.530a6c314a4848ead2b0ebc40e6ba651.jpg\n",
            "📄 Chess Pieces.yolov8-obb/test/images/IMG_0159_JPG.rf.f0d34122f8817d538e396b04f2b70d33.jpg\n",
            "📄 Chess Pieces.yolov8-obb/test/images/IMG_0169_JPG.rf.1de291413bb78ef8ff0eaa8ffac38b06.jpg\n",
            "📄 Chess Pieces.yolov8-obb/test/images/IMG_0170_JPG.rf.480e7164cb4727f6654402882f0ce942.jpg\n",
            "📄 Chess Pieces.yolov8-obb/test/images/a3863d0be6002c21b20ac88817b2c56f_jpg.rf.0413d5178136ace55f588df9556c060a.jpg\n",
            "📄 Chess Pieces.yolov8-obb/test/images/b4ff4132c8c85da97d8bf9a2a4ed3e3d_jpg.rf.ec790769b4818025b7652ca6aab9307e.jpg\n"
          ]
        }
      ]
    },
    {
      "cell_type": "code",
      "source": [
        "!pip install ultralytics --quiet\n",
        "from ultralytics import YOLO\n"
      ],
      "metadata": {
        "colab": {
          "base_uri": "https://localhost:8080/"
        },
        "id": "in4BpfFXRfUC",
        "outputId": "440ed781-1073-49a4-b1bf-d0ec51d6c3ca"
      },
      "execution_count": 8,
      "outputs": [
        {
          "output_type": "stream",
          "name": "stdout",
          "text": [
            "\u001b[2K   \u001b[90m━━━━━━━━━━━━━━━━━━━━━━━━━━━━━━━━━━━━━━━━\u001b[0m \u001b[32m1.0/1.0 MB\u001b[0m \u001b[31m14.9 MB/s\u001b[0m eta \u001b[36m0:00:00\u001b[0m\n",
            "\u001b[2K   \u001b[90m━━━━━━━━━━━━━━━━━━━━━━━━━━━━━━━━━━━━━━━━\u001b[0m \u001b[32m363.4/363.4 MB\u001b[0m \u001b[31m1.4 MB/s\u001b[0m eta \u001b[36m0:00:00\u001b[0m\n",
            "\u001b[2K   \u001b[90m━━━━━━━━━━━━━━━━━━━━━━━━━━━━━━━━━━━━━━━━\u001b[0m \u001b[32m13.8/13.8 MB\u001b[0m \u001b[31m99.2 MB/s\u001b[0m eta \u001b[36m0:00:00\u001b[0m\n",
            "\u001b[2K   \u001b[90m━━━━━━━━━━━━━━━━━━━━━━━━━━━━━━━━━━━━━━━━\u001b[0m \u001b[32m24.6/24.6 MB\u001b[0m \u001b[31m74.9 MB/s\u001b[0m eta \u001b[36m0:00:00\u001b[0m\n",
            "\u001b[2K   \u001b[90m━━━━━━━━━━━━━━━━━━━━━━━━━━━━━━━━━━━━━━━━\u001b[0m \u001b[32m883.7/883.7 kB\u001b[0m \u001b[31m46.3 MB/s\u001b[0m eta \u001b[36m0:00:00\u001b[0m\n",
            "\u001b[2K   \u001b[90m━━━━━━━━━━━━━━━━━━━━━━━━━━━━━━━━━━━━━━━\u001b[0m \u001b[32m664.8/664.8 MB\u001b[0m \u001b[31m847.7 kB/s\u001b[0m eta \u001b[36m0:00:00\u001b[0m\n",
            "\u001b[2K   \u001b[90m━━━━━━━━━━━━━━━━━━━━━━━━━━━━━━━━━━━━━━━━\u001b[0m \u001b[32m211.5/211.5 MB\u001b[0m \u001b[31m6.5 MB/s\u001b[0m eta \u001b[36m0:00:00\u001b[0m\n",
            "\u001b[2K   \u001b[90m━━━━━━━━━━━━━━━━━━━━━━━━━━━━━━━━━━━━━━━━\u001b[0m \u001b[32m56.3/56.3 MB\u001b[0m \u001b[31m11.4 MB/s\u001b[0m eta \u001b[36m0:00:00\u001b[0m\n",
            "\u001b[2K   \u001b[90m━━━━━━━━━━━━━━━━━━━━━━━━━━━━━━━━━━━━━━━━\u001b[0m \u001b[32m127.9/127.9 MB\u001b[0m \u001b[31m8.1 MB/s\u001b[0m eta \u001b[36m0:00:00\u001b[0m\n",
            "\u001b[2K   \u001b[90m━━━━━━━━━━━━━━━━━━━━━━━━━━━━━━━━━━━━━━━━\u001b[0m \u001b[32m207.5/207.5 MB\u001b[0m \u001b[31m2.0 MB/s\u001b[0m eta \u001b[36m0:00:00\u001b[0m\n",
            "\u001b[2K   \u001b[90m━━━━━━━━━━━━━━━━━━━━━━━━━━━━━━━━━━━━━━━━\u001b[0m \u001b[32m21.1/21.1 MB\u001b[0m \u001b[31m87.3 MB/s\u001b[0m eta \u001b[36m0:00:00\u001b[0m\n",
            "\u001b[?25hCreating new Ultralytics Settings v0.0.6 file ✅ \n",
            "View Ultralytics Settings with 'yolo settings' or at '/root/.config/Ultralytics/settings.json'\n",
            "Update Settings with 'yolo settings key=value', i.e. 'yolo settings runs_dir=path/to/dir'. For help see https://docs.ultralytics.com/quickstart/#ultralytics-settings.\n"
          ]
        }
      ]
    },
    {
      "cell_type": "code",
      "source": [
        "import glob\n",
        "\n",
        "label_dirs = glob.glob('/content/chess_yolo_dataset/**/labels', recursive=True)\n",
        "print(\"🗂️ Found label folders:\")\n",
        "for path in label_dirs:\n",
        "    print(\"📂\", path)\n"
      ],
      "metadata": {
        "colab": {
          "base_uri": "https://localhost:8080/"
        },
        "id": "NSwPFtJVS4FC",
        "outputId": "ecfd0ffb-b99c-4f88-f25e-47c2285fd30d"
      },
      "execution_count": 19,
      "outputs": [
        {
          "output_type": "stream",
          "name": "stdout",
          "text": [
            "🗂️ Found label folders:\n",
            "📂 /content/chess_yolo_dataset/Chess_pieces/train/labels\n",
            "📂 /content/chess_yolo_dataset/Chess_pieces/test/labels\n",
            "📂 /content/chess_yolo_dataset/Chess_pieces/valid/labels\n",
            "📂 /content/chess_yolo_dataset/Chess Pieces.yolov8-obb/train/labels\n",
            "📂 /content/chess_yolo_dataset/Chess Pieces.yolov8-obb/test/labels\n",
            "📂 /content/chess_yolo_dataset/Chess Pieces.yolov8-obb/valid/labels\n"
          ]
        }
      ]
    },
    {
      "cell_type": "code",
      "source": [
        "import os\n",
        "\n",
        "# Path where you extracted the ZIP file\n",
        "base_path = \"/content/chess_yolo_dataset\"\n",
        "\n",
        "# Check if anything is there\n",
        "if os.path.exists(base_path):\n",
        "    print(\"✅ ZIP has been extracted. Contents:\")\n",
        "    for root, dirs, files in os.walk(base_path):\n",
        "        level = root.replace(base_path, '').count(os.sep)\n",
        "        indent = ' ' * 2 * level\n",
        "        print(f\"{indent}{os.path.basename(root)}/\")\n",
        "        subindent = ' ' * 2 * (level + 1)\n",
        "        for f in files[:5]:  # Only show first 5 files per folder\n",
        "            print(f\"{subindent}{f}\")\n",
        "else:\n",
        "    print(\"❌ ZIP is not extracted yet.\")\n"
      ],
      "metadata": {
        "colab": {
          "base_uri": "https://localhost:8080/"
        },
        "id": "PKbJJEHoSCtq",
        "outputId": "938ca643-475c-4d3c-9415-95a442aad24d"
      },
      "execution_count": 20,
      "outputs": [
        {
          "output_type": "stream",
          "name": "stdout",
          "text": [
            "✅ ZIP has been extracted. Contents:\n",
            "chess_yolo_dataset/\n",
            "  Chess_pieces/\n",
            "    README.dataset.txt\n",
            "    Chess_video_example.mp4\n",
            "    README.roboflow.txt\n",
            "    data.yaml.yaml\n",
            "    train/\n",
            "      1b4ccdf7d5ff45dc6c3885243bde5af2_jpg.rf.92bd5a7bb83cb5d8639db85d02fe7511.jpg\n",
            "      61567b97353acc18ba9e8aac0f111326_jpg.rf.9744632c3305a0e7db1b8035a4cd3f5f.jpg\n",
            "      76dbe2ccf986a2a0d399d3d8a47279ad_jpg.rf.26886d4d35f2aefff108d7aaf1cb37db.jpg\n",
            "      479459fe5c8213a84fd55ba82f2670b1_jpg.rf.aed5813593dffed834ffe36cd1a2e976.jpg\n",
            "      c0d68e012bb93c14bc333fc1d5e52621_jpg.rf.1644855d8e7c4e07a615e02cdd6eb550.jpg\n",
            "      labels/\n",
            "        9c5fb0c3cfd7b334a247cd87c139e8e6_jpg.rf.904c4ab6f7ac3d6c2ab134394b00e632.txt\n",
            "        4d6b667ecbd41ebd603b38848366d9d0_jpg.rf.7cc24cb0d6e9d83179bc05d30f21bb49.txt\n",
            "        8ff64b3f770bfe96bdffc629efd16460_jpg.rf.9dfbcd5dcdd10632e499e2305b970292.txt\n",
            "        e79deba8fe520409790b601ad61da4ee_jpg.rf.83a6e8ba2d0d752b3ab81886c1c838bf.txt\n",
            "        9146a6989dac08f1769e677064ebfb49_jpg.rf.f479d3177bde0b8beb172fcd798971f2.txt\n",
            "      images/\n",
            "        1b4ccdf7d5ff45dc6c3885243bde5af2_jpg.rf.92bd5a7bb83cb5d8639db85d02fe7511.jpg\n",
            "        61567b97353acc18ba9e8aac0f111326_jpg.rf.9744632c3305a0e7db1b8035a4cd3f5f.jpg\n",
            "        76dbe2ccf986a2a0d399d3d8a47279ad_jpg.rf.26886d4d35f2aefff108d7aaf1cb37db.jpg\n",
            "        479459fe5c8213a84fd55ba82f2670b1_jpg.rf.aed5813593dffed834ffe36cd1a2e976.jpg\n",
            "        c0d68e012bb93c14bc333fc1d5e52621_jpg.rf.1644855d8e7c4e07a615e02cdd6eb550.jpg\n",
            "    test/\n",
            "      654bb8835258b26c466b1c19893df451_jpg.rf.55fb7f23a4422a80793f01e152fabe4d.jpg\n",
            "      749e9074a77f8d34d86e2218f26cdab4_jpg.rf.b39c00c032a7ecbb62b8792bbe05497e.jpg\n",
            "      c5a012dfa72816098d23fc8baee67834_jpg.rf.6e0feae2ac0229ff5f20fc842852c81d.jpg\n",
            "      b9402881fa580d0eb8b9b98845417550_jpg.rf.7c401587706c0c03dab27877a8d22f55.jpg\n",
            "      8ff752f9ed443e6e49d495abfceb2032_jpg.rf.530a6c314a4848ead2b0ebc40e6ba651.jpg\n",
            "      labels/\n",
            "        685b860d412b91f5d4f7f9e643b84452_jpg.rf.2d78193e4021ae5ffb49ecd1060bebd7.txt\n",
            "        73a38a5c8f8f1b09f093f304660d5326_jpg.rf.65192fc4204952bfd1121ee212aade1e.txt\n",
            "        f1a24b6bb778ee11ba33687415aa84f2_jpg.rf.f2646d2d46b39f6510975f24d554bae1.txt\n",
            "        654bb8835258b26c466b1c19893df451_jpg.rf.55fb7f23a4422a80793f01e152fabe4d.txt\n",
            "        b4ff4132c8c85da97d8bf9a2a4ed3e3d_jpg.rf.ec790769b4818025b7652ca6aab9307e.txt\n",
            "      images/\n",
            "        654bb8835258b26c466b1c19893df451_jpg.rf.55fb7f23a4422a80793f01e152fabe4d.jpg\n",
            "        749e9074a77f8d34d86e2218f26cdab4_jpg.rf.b39c00c032a7ecbb62b8792bbe05497e.jpg\n",
            "        c5a012dfa72816098d23fc8baee67834_jpg.rf.6e0feae2ac0229ff5f20fc842852c81d.jpg\n",
            "        b9402881fa580d0eb8b9b98845417550_jpg.rf.7c401587706c0c03dab27877a8d22f55.jpg\n",
            "        8ff752f9ed443e6e49d495abfceb2032_jpg.rf.530a6c314a4848ead2b0ebc40e6ba651.jpg\n",
            "    valid/\n",
            "      IMG_0320_JPG.rf.2a69b00c4e2299736c81954089818448.jpg\n",
            "      18742c87a03866e042c5659ba04d1180_jpg.rf.ec846d30e3eebb02abb8056342b9de32.jpg\n",
            "      73e6a751c50604d017541c11b28d8417_jpg.rf.cdbbf1901e916db82ec096334e0306f9.jpg\n",
            "      d114edc5cb4cae0ceb2f152afd15f57d_jpg.rf.fa2760e7c7663ed523265248c14b35ea.jpg\n",
            "      3baf85c957b9d28a16c0b65cb2ef0d29_jpg.rf.712429bc0be682ad0038cbc6beb3fd30.jpg\n",
            "      labels/\n",
            "        7e862b85e33cd247ed66447d129e5fb4_jpg.rf.7d29881ed3ccce2f9e308e2aa3b20671.txt\n",
            "        e53bf8a0e692a4ccd5f1dc2bc19e7751_jpg.rf.a8b866893eddbe54b209aa055984e2e6.txt\n",
            "        5c19d3260762f5daa632d952bc0074d6_jpg.rf.250c45a5fed7c606ee8fe28810a219a2.txt\n",
            "        IMG_0310_JPG.rf.fa4dfa05ea9b136a2afc53556d90adb9.txt\n",
            "        31b83afa654d5dd874c3f0111126ab7f_jpg.rf.3b3c671f839cb2dd6a6a21e3f5c5c195.txt\n",
            "      images/\n",
            "        IMG_0320_JPG.rf.2a69b00c4e2299736c81954089818448.jpg\n",
            "        18742c87a03866e042c5659ba04d1180_jpg.rf.ec846d30e3eebb02abb8056342b9de32.jpg\n",
            "        73e6a751c50604d017541c11b28d8417_jpg.rf.cdbbf1901e916db82ec096334e0306f9.jpg\n",
            "        d114edc5cb4cae0ceb2f152afd15f57d_jpg.rf.fa2760e7c7663ed523265248c14b35ea.jpg\n",
            "        3baf85c957b9d28a16c0b65cb2ef0d29_jpg.rf.712429bc0be682ad0038cbc6beb3fd30.jpg\n",
            "  Chess Pieces.yolov8-obb/\n",
            "    README.dataset.txt\n",
            "    README.roboflow.txt\n",
            "    data.yaml\n",
            "    train/\n",
            "      labels/\n",
            "        9c5fb0c3cfd7b334a247cd87c139e8e6_jpg.rf.904c4ab6f7ac3d6c2ab134394b00e632.txt\n",
            "        4d6b667ecbd41ebd603b38848366d9d0_jpg.rf.7cc24cb0d6e9d83179bc05d30f21bb49.txt\n",
            "        8ff64b3f770bfe96bdffc629efd16460_jpg.rf.9dfbcd5dcdd10632e499e2305b970292.txt\n",
            "        e79deba8fe520409790b601ad61da4ee_jpg.rf.83a6e8ba2d0d752b3ab81886c1c838bf.txt\n",
            "        9146a6989dac08f1769e677064ebfb49_jpg.rf.f479d3177bde0b8beb172fcd798971f2.txt\n",
            "      images/\n",
            "        1b4ccdf7d5ff45dc6c3885243bde5af2_jpg.rf.92bd5a7bb83cb5d8639db85d02fe7511.jpg\n",
            "        61567b97353acc18ba9e8aac0f111326_jpg.rf.9744632c3305a0e7db1b8035a4cd3f5f.jpg\n",
            "        76dbe2ccf986a2a0d399d3d8a47279ad_jpg.rf.26886d4d35f2aefff108d7aaf1cb37db.jpg\n",
            "        479459fe5c8213a84fd55ba82f2670b1_jpg.rf.aed5813593dffed834ffe36cd1a2e976.jpg\n",
            "        c0d68e012bb93c14bc333fc1d5e52621_jpg.rf.1644855d8e7c4e07a615e02cdd6eb550.jpg\n",
            "    test/\n",
            "      labels/\n",
            "        685b860d412b91f5d4f7f9e643b84452_jpg.rf.2d78193e4021ae5ffb49ecd1060bebd7.txt\n",
            "        73a38a5c8f8f1b09f093f304660d5326_jpg.rf.65192fc4204952bfd1121ee212aade1e.txt\n",
            "        f1a24b6bb778ee11ba33687415aa84f2_jpg.rf.f2646d2d46b39f6510975f24d554bae1.txt\n",
            "        654bb8835258b26c466b1c19893df451_jpg.rf.55fb7f23a4422a80793f01e152fabe4d.txt\n",
            "        b4ff4132c8c85da97d8bf9a2a4ed3e3d_jpg.rf.ec790769b4818025b7652ca6aab9307e.txt\n",
            "      images/\n",
            "        654bb8835258b26c466b1c19893df451_jpg.rf.55fb7f23a4422a80793f01e152fabe4d.jpg\n",
            "        749e9074a77f8d34d86e2218f26cdab4_jpg.rf.b39c00c032a7ecbb62b8792bbe05497e.jpg\n",
            "        c5a012dfa72816098d23fc8baee67834_jpg.rf.6e0feae2ac0229ff5f20fc842852c81d.jpg\n",
            "        b9402881fa580d0eb8b9b98845417550_jpg.rf.7c401587706c0c03dab27877a8d22f55.jpg\n",
            "        8ff752f9ed443e6e49d495abfceb2032_jpg.rf.530a6c314a4848ead2b0ebc40e6ba651.jpg\n",
            "    valid/\n",
            "      labels/\n",
            "        7e862b85e33cd247ed66447d129e5fb4_jpg.rf.7d29881ed3ccce2f9e308e2aa3b20671.txt\n",
            "        e53bf8a0e692a4ccd5f1dc2bc19e7751_jpg.rf.a8b866893eddbe54b209aa055984e2e6.txt\n",
            "        5c19d3260762f5daa632d952bc0074d6_jpg.rf.250c45a5fed7c606ee8fe28810a219a2.txt\n",
            "        IMG_0310_JPG.rf.fa4dfa05ea9b136a2afc53556d90adb9.txt\n",
            "        31b83afa654d5dd874c3f0111126ab7f_jpg.rf.3b3c671f839cb2dd6a6a21e3f5c5c195.txt\n",
            "      images/\n",
            "        IMG_0320_JPG.rf.2a69b00c4e2299736c81954089818448.jpg\n",
            "        18742c87a03866e042c5659ba04d1180_jpg.rf.ec846d30e3eebb02abb8056342b9de32.jpg\n",
            "        73e6a751c50604d017541c11b28d8417_jpg.rf.cdbbf1901e916db82ec096334e0306f9.jpg\n",
            "        d114edc5cb4cae0ceb2f152afd15f57d_jpg.rf.fa2760e7c7663ed523265248c14b35ea.jpg\n",
            "        3baf85c957b9d28a16c0b65cb2ef0d29_jpg.rf.712429bc0be682ad0038cbc6beb3fd30.jpg\n"
          ]
        }
      ]
    },
    {
      "cell_type": "code",
      "metadata": {
        "colab": {
          "base_uri": "https://localhost:8080/"
        },
        "id": "644835f8",
        "outputId": "6b3a5c6a-faa6-47e0-b32f-d7f37ed9928e"
      },
      "source": [
        "import os\n",
        "\n",
        "validation_images_path = \"/content/chess_yolo_dataset/Chess Pieces.yolov8-obb/valid/images\"\n",
        "\n",
        "if os.path.exists(validation_images_path):\n",
        "    print(f\"✅ Directory found: {validation_images_path}\")\n",
        "    files = os.listdir(validation_images_path)\n",
        "    if files:\n",
        "        print(f\"📂 Contains {len(files)} files. First 10 files:\")\n",
        "        for f in files[:10]:\n",
        "            print(f\"  🖼️ {f}\")\n",
        "    else:\n",
        "        print(f\"⚠️ Directory is empty: {validation_images_path}\")\n",
        "else:\n",
        "    print(f\"❌ Directory not found: {validation_images_path}\")"
      ],
      "execution_count": 22,
      "outputs": [
        {
          "output_type": "stream",
          "name": "stdout",
          "text": [
            "✅ Directory found: /content/chess_yolo_dataset/Chess Pieces.yolov8-obb/valid/images\n",
            "📂 Contains 58 files. First 10 files:\n",
            "  🖼️ IMG_0320_JPG.rf.2a69b00c4e2299736c81954089818448.jpg\n",
            "  🖼️ 18742c87a03866e042c5659ba04d1180_jpg.rf.ec846d30e3eebb02abb8056342b9de32.jpg\n",
            "  🖼️ 73e6a751c50604d017541c11b28d8417_jpg.rf.cdbbf1901e916db82ec096334e0306f9.jpg\n",
            "  🖼️ d114edc5cb4cae0ceb2f152afd15f57d_jpg.rf.fa2760e7c7663ed523265248c14b35ea.jpg\n",
            "  🖼️ 3baf85c957b9d28a16c0b65cb2ef0d29_jpg.rf.712429bc0be682ad0038cbc6beb3fd30.jpg\n",
            "  🖼️ d6e283a49b0395a6d5867c9e98e32045_jpg.rf.78b022c1aa0a30727326b7962789a9aa.jpg\n",
            "  🖼️ 1b7c1c9570e900f75eb974f99cbb3c60_jpg.rf.ec7b31959243b9f7a54b7c3ea89dbce6.jpg\n",
            "  🖼️ d3b9309d00a2b671407b918ea867a935_jpg.rf.5e1400d76ea181788b7defd2f5d64254.jpg\n",
            "  🖼️ IMG_0293_JPG.rf.e208f5cdf5e993c552be7f96e86c4890.jpg\n",
            "  🖼️ 57d1d1fb35ed875f9e770660bb03b6d7_jpg.rf.35a16500fc22fb8c6e59b86172462258.jpg\n"
          ]
        }
      ]
    },
    {
      "cell_type": "code",
      "source": [
        "!pip install ultralytics --quiet\n",
        "from ultralytics import YOLO"
      ],
      "metadata": {
        "colab": {
          "base_uri": "https://localhost:8080/"
        },
        "id": "c75L8XPiYA-k",
        "outputId": "ce055a0e-6129-4d0b-e786-7e458810e2e6"
      },
      "execution_count": 24,
      "outputs": [
        {
          "output_type": "stream",
          "name": "stdout",
          "text": [
            "\u001b[2K   \u001b[90m━━━━━━━━━━━━━━━━━━━━━━━━━━━━━━━━━━━━━━━━\u001b[0m \u001b[32m1.0/1.0 MB\u001b[0m \u001b[31m25.6 MB/s\u001b[0m eta \u001b[36m0:00:00\u001b[0m\n",
            "\u001b[2K   \u001b[90m━━━━━━━━━━━━━━━━━━━━━━━━━━━━━━━━━━━━━━━━\u001b[0m \u001b[32m363.4/363.4 MB\u001b[0m \u001b[31m4.9 MB/s\u001b[0m eta \u001b[36m0:00:00\u001b[0m\n",
            "\u001b[2K   \u001b[90m━━━━━━━━━━━━━━━━━━━━━━━━━━━━━━━━━━━━━━━━\u001b[0m \u001b[32m13.8/13.8 MB\u001b[0m \u001b[31m66.5 MB/s\u001b[0m eta \u001b[36m0:00:00\u001b[0m\n",
            "\u001b[2K   \u001b[90m━━━━━━━━━━━━━━━━━━━━━━━━━━━━━━━━━━━━━━━━\u001b[0m \u001b[32m24.6/24.6 MB\u001b[0m \u001b[31m36.4 MB/s\u001b[0m eta \u001b[36m0:00:00\u001b[0m\n",
            "\u001b[2K   \u001b[90m━━━━━━━━━━━━━━━━━━━━━━━━━━━━━━━━━━━━━━━━\u001b[0m \u001b[32m883.7/883.7 kB\u001b[0m \u001b[31m48.5 MB/s\u001b[0m eta \u001b[36m0:00:00\u001b[0m\n",
            "\u001b[2K   \u001b[90m━━━━━━━━━━━━━━━━━━━━━━━━━━━━━━━━━━━━━━━━\u001b[0m \u001b[32m664.8/664.8 MB\u001b[0m \u001b[31m2.3 MB/s\u001b[0m eta \u001b[36m0:00:00\u001b[0m\n",
            "\u001b[2K   \u001b[90m━━━━━━━━━━━━━━━━━━━━━━━━━━━━━━━━━━━━━━━━\u001b[0m \u001b[32m211.5/211.5 MB\u001b[0m \u001b[31m5.3 MB/s\u001b[0m eta \u001b[36m0:00:00\u001b[0m\n",
            "\u001b[2K   \u001b[90m━━━━━━━━━━━━━━━━━━━━━━━━━━━━━━━━━━━━━━━━\u001b[0m \u001b[32m56.3/56.3 MB\u001b[0m \u001b[31m17.0 MB/s\u001b[0m eta \u001b[36m0:00:00\u001b[0m\n",
            "\u001b[2K   \u001b[90m━━━━━━━━━━━━━━━━━━━━━━━━━━━━━━━━━━━━━━━━\u001b[0m \u001b[32m127.9/127.9 MB\u001b[0m \u001b[31m7.1 MB/s\u001b[0m eta \u001b[36m0:00:00\u001b[0m\n",
            "\u001b[2K   \u001b[90m━━━━━━━━━━━━━━━━━━━━━━━━━━━━━━━━━━━━━━━━\u001b[0m \u001b[32m207.5/207.5 MB\u001b[0m \u001b[31m5.5 MB/s\u001b[0m eta \u001b[36m0:00:00\u001b[0m\n",
            "\u001b[2K   \u001b[90m━━━━━━━━━━━━━━━━━━━━━━━━━━━━━━━━━━━━━━━━\u001b[0m \u001b[32m21.1/21.1 MB\u001b[0m \u001b[31m71.9 MB/s\u001b[0m eta \u001b[36m0:00:00\u001b[0m\n",
            "\u001b[?25hCreating new Ultralytics Settings v0.0.6 file ✅ \n",
            "View Ultralytics Settings with 'yolo settings' or at '/root/.config/Ultralytics/settings.json'\n",
            "Update Settings with 'yolo settings key=value', i.e. 'yolo settings runs_dir=path/to/dir'. For help see https://docs.ultralytics.com/quickstart/#ultralytics-settings.\n"
          ]
        }
      ]
    },
    {
      "cell_type": "code",
      "source": [
        "from ultralytics import YOLO\n",
        "import yaml\n",
        "import os\n",
        "import tempfile\n",
        "\n",
        "model = YOLO('yolov8n.pt')  # or yolov8s.pt\n",
        "\n",
        "# Define the path to the original data.yaml file\n",
        "original_data_yaml_path = \"/content/chess_yolo_dataset/Chess Pieces.yolov8-obb/data.yaml\"\n",
        "\n",
        "# Define the base path where the dataset was extracted\n",
        "dataset_base_path = \"/content/chess_yolo_dataset/Chess Pieces.yolov8-obb\"\n",
        "\n",
        "# Read the original data.yaml file\n",
        "with open(original_data_yaml_path, 'r') as f:\n",
        "    data = yaml.safe_load(f)\n",
        "\n",
        "# Remove the 'path' variable from the data dictionary\n",
        "if 'path' in data:\n",
        "    del data['path']\n",
        "\n",
        "# Update the paths for train, valid, and test to be absolute paths\n",
        "data['train'] = os.path.join(dataset_base_path, 'train', 'images')\n",
        "data['valid'] = os.path.join(dataset_base_path, 'valid', 'images')\n",
        "data['test'] = os.path.join(dataset_base_path, 'test', 'images')\n",
        "\n",
        "# Ensure 'val' key points to the correct 'valid' directory for compatibility\n",
        "if 'val' in data:\n",
        "     data['val'] = data['valid']\n",
        "\n",
        "\n",
        "# Optionally, update the number of classes if it's not correct\n",
        "# data['nc'] = 12 # Uncomment and set the correct number of classes if needed\n",
        "\n",
        "# Create a temporary yaml file to save the updated data dictionary\n",
        "with tempfile.NamedTemporaryFile(suffix=\".yaml\", mode=\"w\", delete=False) as tmp_file:\n",
        "    yaml.dump(data, tmp_file)\n",
        "    temp_yaml_path = tmp_file.name\n",
        "\n",
        "print(f\"Created temporary yaml file at: {temp_yaml_path}\")\n",
        "print(\"Updated data dictionary:\")\n",
        "print(data)\n",
        "\n",
        "\n",
        "results = model.train(\n",
        "    data=temp_yaml_path,  # Pass the path to the temporary yaml file\n",
        "    epochs=20,\n",
        "    imgsz=640\n",
        ")\n",
        "\n",
        "# Optionally, clean up the temporary file after training\n",
        "# import os\n",
        "# os.remove(temp_yaml_path)"
      ],
      "metadata": {
        "colab": {
          "base_uri": "https://localhost:8080/"
        },
        "id": "x6dYRv6iXssz",
        "outputId": "d07ed167-806a-4d78-9ee8-b62005ff23b9"
      },
      "execution_count": 25,
      "outputs": [
        {
          "output_type": "stream",
          "name": "stdout",
          "text": [
            "Downloading https://github.com/ultralytics/assets/releases/download/v8.3.0/yolov8n.pt to 'yolov8n.pt'...\n"
          ]
        },
        {
          "output_type": "stream",
          "name": "stderr",
          "text": [
            "100%|██████████| 6.25M/6.25M [00:00<00:00, 121MB/s]\n"
          ]
        },
        {
          "output_type": "stream",
          "name": "stdout",
          "text": [
            "Created temporary yaml file at: /tmp/tmpsin358tv.yaml\n",
            "Updated data dictionary:\n",
            "{'train': '/content/chess_yolo_dataset/Chess Pieces.yolov8-obb/train/images', 'val': '/content/chess_yolo_dataset/Chess Pieces.yolov8-obb/valid/images', 'test': '/content/chess_yolo_dataset/Chess Pieces.yolov8-obb/test/images', 'names': {0: 'bishop', 1: 'black-bishop', 2: 'black-king', 3: 'black-knight', 4: 'black-pawn', 5: 'black-queen', 6: 'black-rook', 7: 'white-bishop', 8: 'white-king', 9: 'white-knight', 10: 'white-pawn', 11: 'white-queen', 12: 'white-rook'}, 'valid': '/content/chess_yolo_dataset/Chess Pieces.yolov8-obb/valid/images'}\n",
            "Ultralytics 8.3.165 🚀 Python-3.11.13 torch-2.6.0+cu124 CUDA:0 (Tesla T4, 15095MiB)\n",
            "\u001b[34m\u001b[1mengine/trainer: \u001b[0magnostic_nms=False, amp=True, augment=False, auto_augment=randaugment, batch=16, bgr=0.0, box=7.5, cache=False, cfg=None, classes=None, close_mosaic=10, cls=0.5, conf=None, copy_paste=0.0, copy_paste_mode=flip, cos_lr=False, cutmix=0.0, data=/tmp/tmpsin358tv.yaml, degrees=0.0, deterministic=True, device=None, dfl=1.5, dnn=False, dropout=0.0, dynamic=False, embed=None, epochs=20, erasing=0.4, exist_ok=False, fliplr=0.5, flipud=0.0, format=torchscript, fraction=1.0, freeze=None, half=False, hsv_h=0.015, hsv_s=0.7, hsv_v=0.4, imgsz=640, int8=False, iou=0.7, keras=False, kobj=1.0, line_width=None, lr0=0.01, lrf=0.01, mask_ratio=4, max_det=300, mixup=0.0, mode=train, model=yolov8n.pt, momentum=0.937, mosaic=1.0, multi_scale=False, name=train, nbs=64, nms=False, opset=None, optimize=False, optimizer=auto, overlap_mask=True, patience=100, perspective=0.0, plots=True, pose=12.0, pretrained=True, profile=False, project=None, rect=False, resume=False, retina_masks=False, save=True, save_conf=False, save_crop=False, save_dir=runs/detect/train, save_frames=False, save_json=False, save_period=-1, save_txt=False, scale=0.5, seed=0, shear=0.0, show=False, show_boxes=True, show_conf=True, show_labels=True, simplify=True, single_cls=False, source=None, split=val, stream_buffer=False, task=detect, time=None, tracker=botsort.yaml, translate=0.1, val=True, verbose=True, vid_stride=1, visualize=False, warmup_bias_lr=0.1, warmup_epochs=3.0, warmup_momentum=0.8, weight_decay=0.0005, workers=8, workspace=None\n",
            "Downloading https://ultralytics.com/assets/Arial.ttf to '/root/.config/Ultralytics/Arial.ttf'...\n"
          ]
        },
        {
          "output_type": "stream",
          "name": "stderr",
          "text": [
            "100%|██████████| 755k/755k [00:00<00:00, 27.9MB/s]"
          ]
        },
        {
          "output_type": "stream",
          "name": "stdout",
          "text": [
            "Overriding model.yaml nc=80 with nc=13\n",
            "\n",
            "                   from  n    params  module                                       arguments                     \n",
            "  0                  -1  1       464  ultralytics.nn.modules.conv.Conv             [3, 16, 3, 2]                 \n",
            "  1                  -1  1      4672  ultralytics.nn.modules.conv.Conv             [16, 32, 3, 2]                \n",
            "  2                  -1  1      7360  ultralytics.nn.modules.block.C2f             [32, 32, 1, True]             \n",
            "  3                  -1  1     18560  ultralytics.nn.modules.conv.Conv             [32, 64, 3, 2]                \n",
            "  4                  -1  2     49664  ultralytics.nn.modules.block.C2f             [64, 64, 2, True]             \n",
            "  5                  -1  1     73984  ultralytics.nn.modules.conv.Conv             [64, 128, 3, 2]               \n",
            "  6                  -1  2    197632  ultralytics.nn.modules.block.C2f             [128, 128, 2, True]           \n",
            "  7                  -1  1    295424  ultralytics.nn.modules.conv.Conv             [128, 256, 3, 2]              \n",
            "  8                  -1  1    460288  ultralytics.nn.modules.block.C2f             [256, 256, 1, True]           \n",
            "  9                  -1  1    164608  ultralytics.nn.modules.block.SPPF            [256, 256, 5]                 \n",
            " 10                  -1  1         0  torch.nn.modules.upsampling.Upsample         [None, 2, 'nearest']          \n",
            " 11             [-1, 6]  1         0  ultralytics.nn.modules.conv.Concat           [1]                           \n",
            " 12                  -1  1    148224  ultralytics.nn.modules.block.C2f             [384, 128, 1]                 \n",
            " 13                  -1  1         0  torch.nn.modules.upsampling.Upsample         [None, 2, 'nearest']          \n",
            " 14             [-1, 4]  1         0  ultralytics.nn.modules.conv.Concat           [1]                           \n",
            " 15                  -1  1     37248  ultralytics.nn.modules.block.C2f             [192, 64, 1]                  \n",
            " 16                  -1  1     36992  ultralytics.nn.modules.conv.Conv             [64, 64, 3, 2]                \n",
            " 17            [-1, 12]  1         0  ultralytics.nn.modules.conv.Concat           [1]                           \n",
            " 18                  -1  1    123648  ultralytics.nn.modules.block.C2f             [192, 128, 1]                 \n",
            " 19                  -1  1    147712  ultralytics.nn.modules.conv.Conv             [128, 128, 3, 2]              \n",
            " 20             [-1, 9]  1         0  ultralytics.nn.modules.conv.Concat           [1]                           \n",
            " 21                  -1  1    493056  ultralytics.nn.modules.block.C2f             [384, 256, 1]                 \n",
            " 22        [15, 18, 21]  1    753847  ultralytics.nn.modules.head.Detect           [13, [64, 128, 256]]          \n"
          ]
        },
        {
          "output_type": "stream",
          "name": "stderr",
          "text": [
            "\n"
          ]
        },
        {
          "output_type": "stream",
          "name": "stdout",
          "text": [
            "Model summary: 129 layers, 3,013,383 parameters, 3,013,367 gradients, 8.2 GFLOPs\n",
            "\n",
            "Transferred 319/355 items from pretrained weights\n",
            "Freezing layer 'model.22.dfl.conv.weight'\n",
            "\u001b[34m\u001b[1mAMP: \u001b[0mrunning Automatic Mixed Precision (AMP) checks...\n",
            "Downloading https://github.com/ultralytics/assets/releases/download/v8.3.0/yolo11n.pt to 'yolo11n.pt'...\n"
          ]
        },
        {
          "output_type": "stream",
          "name": "stderr",
          "text": [
            "100%|██████████| 5.35M/5.35M [00:00<00:00, 86.2MB/s]\n"
          ]
        },
        {
          "output_type": "stream",
          "name": "stdout",
          "text": [
            "\u001b[34m\u001b[1mAMP: \u001b[0mchecks passed ✅\n",
            "\u001b[34m\u001b[1mtrain: \u001b[0mFast image access ✅ (ping: 0.0±0.0 ms, read: 12.9±2.0 MB/s, size: 23.6 KB)\n"
          ]
        },
        {
          "output_type": "stream",
          "name": "stderr",
          "text": [
            "\u001b[34m\u001b[1mtrain: \u001b[0mScanning /content/chess_yolo_dataset/Chess Pieces.yolov8-obb/train/labels... 606 images, 0 backgrounds, 0 corrupt: 100%|██████████| 606/606 [00:00<00:00, 1133.22it/s]"
          ]
        },
        {
          "output_type": "stream",
          "name": "stdout",
          "text": [
            "\u001b[34m\u001b[1mtrain: \u001b[0m/content/chess_yolo_dataset/Chess Pieces.yolov8-obb/train/images/26d663ab5ffbec49f9dc8e592982cfd4_jpg.rf.0fe973299ff9e73874d9e684cba4e406.jpg: 1 duplicate labels removed\n",
            "\u001b[34m\u001b[1mtrain: \u001b[0m/content/chess_yolo_dataset/Chess Pieces.yolov8-obb/train/images/26d663ab5ffbec49f9dc8e592982cfd4_jpg.rf.5e1a9d49ad09f5a7549225a05e1f66a6.jpg: 1 duplicate labels removed\n",
            "\u001b[34m\u001b[1mtrain: \u001b[0m/content/chess_yolo_dataset/Chess Pieces.yolov8-obb/train/images/26d663ab5ffbec49f9dc8e592982cfd4_jpg.rf.bb226be189ee3a6399fbbd5080852e5b.jpg: 1 duplicate labels removed\n",
            "\u001b[34m\u001b[1mtrain: \u001b[0mNew cache created: /content/chess_yolo_dataset/Chess Pieces.yolov8-obb/train/labels.cache\n"
          ]
        },
        {
          "output_type": "stream",
          "name": "stderr",
          "text": [
            "\n"
          ]
        },
        {
          "output_type": "stream",
          "name": "stdout",
          "text": [
            "\u001b[34m\u001b[1malbumentations: \u001b[0mBlur(p=0.01, blur_limit=(3, 7)), MedianBlur(p=0.01, blur_limit=(3, 7)), ToGray(p=0.01, method='weighted_average', num_output_channels=3), CLAHE(p=0.01, clip_limit=(1.0, 4.0), tile_grid_size=(8, 8))\n",
            "\u001b[34m\u001b[1mval: \u001b[0mFast image access ✅ (ping: 0.0±0.0 ms, read: 7.1±3.0 MB/s, size: 23.6 KB)\n"
          ]
        },
        {
          "output_type": "stream",
          "name": "stderr",
          "text": [
            "\u001b[34m\u001b[1mval: \u001b[0mScanning /content/chess_yolo_dataset/Chess Pieces.yolov8-obb/valid/labels... 58 images, 0 backgrounds, 0 corrupt: 100%|██████████| 58/58 [00:00<00:00, 598.14it/s]"
          ]
        },
        {
          "output_type": "stream",
          "name": "stdout",
          "text": [
            "\u001b[34m\u001b[1mval: \u001b[0mNew cache created: /content/chess_yolo_dataset/Chess Pieces.yolov8-obb/valid/labels.cache\n"
          ]
        },
        {
          "output_type": "stream",
          "name": "stderr",
          "text": [
            "\n"
          ]
        },
        {
          "output_type": "stream",
          "name": "stdout",
          "text": [
            "Plotting labels to runs/detect/train/labels.jpg... \n",
            "\u001b[34m\u001b[1moptimizer:\u001b[0m 'optimizer=auto' found, ignoring 'lr0=0.01' and 'momentum=0.937' and determining best 'optimizer', 'lr0' and 'momentum' automatically... \n",
            "\u001b[34m\u001b[1moptimizer:\u001b[0m AdamW(lr=0.000588, momentum=0.9) with parameter groups 57 weight(decay=0.0), 64 weight(decay=0.0005), 63 bias(decay=0.0)\n",
            "Image sizes 640 train, 640 val\n",
            "Using 2 dataloader workers\n",
            "Logging results to \u001b[1mruns/detect/train\u001b[0m\n",
            "Starting training for 20 epochs...\n",
            "\n",
            "      Epoch    GPU_mem   box_loss   cls_loss   dfl_loss  Instances       Size\n"
          ]
        },
        {
          "output_type": "stream",
          "name": "stderr",
          "text": [
            "       1/20      2.81G      1.632      3.669      1.251        243        640: 100%|██████████| 38/38 [00:18<00:00,  2.04it/s]\n",
            "                 Class     Images  Instances      Box(P          R      mAP50  mAP50-95): 100%|██████████| 2/2 [00:02<00:00,  1.39s/it]"
          ]
        },
        {
          "output_type": "stream",
          "name": "stdout",
          "text": [
            "                   all         58        386      0.036      0.947      0.223      0.151\n"
          ]
        },
        {
          "output_type": "stream",
          "name": "stderr",
          "text": [
            "\n"
          ]
        },
        {
          "output_type": "stream",
          "name": "stdout",
          "text": [
            "\n",
            "      Epoch    GPU_mem   box_loss   cls_loss   dfl_loss  Instances       Size\n"
          ]
        },
        {
          "output_type": "stream",
          "name": "stderr",
          "text": [
            "       2/20      2.83G      1.354      2.023      1.078        137        640: 100%|██████████| 38/38 [00:16<00:00,  2.28it/s]\n",
            "                 Class     Images  Instances      Box(P          R      mAP50  mAP50-95): 100%|██████████| 2/2 [00:01<00:00,  1.79it/s]"
          ]
        },
        {
          "output_type": "stream",
          "name": "stdout",
          "text": [
            "                   all         58        386      0.745      0.138      0.495      0.354\n"
          ]
        },
        {
          "output_type": "stream",
          "name": "stderr",
          "text": [
            "\n"
          ]
        },
        {
          "output_type": "stream",
          "name": "stdout",
          "text": [
            "\n",
            "      Epoch    GPU_mem   box_loss   cls_loss   dfl_loss  Instances       Size\n"
          ]
        },
        {
          "output_type": "stream",
          "name": "stderr",
          "text": [
            "       3/20      3.02G      1.252       1.55       1.04        168        640: 100%|██████████| 38/38 [00:16<00:00,  2.29it/s]\n",
            "                 Class     Images  Instances      Box(P          R      mAP50  mAP50-95): 100%|██████████| 2/2 [00:01<00:00,  1.29it/s]"
          ]
        },
        {
          "output_type": "stream",
          "name": "stdout",
          "text": [
            "                   all         58        386      0.618      0.643      0.735      0.491\n"
          ]
        },
        {
          "output_type": "stream",
          "name": "stderr",
          "text": [
            "\n"
          ]
        },
        {
          "output_type": "stream",
          "name": "stdout",
          "text": [
            "\n",
            "      Epoch    GPU_mem   box_loss   cls_loss   dfl_loss  Instances       Size\n"
          ]
        },
        {
          "output_type": "stream",
          "name": "stderr",
          "text": [
            "       4/20      3.04G      1.213      1.357      1.025        212        640: 100%|██████████| 38/38 [00:16<00:00,  2.29it/s]\n",
            "                 Class     Images  Instances      Box(P          R      mAP50  mAP50-95): 100%|██████████| 2/2 [00:01<00:00,  1.89it/s]"
          ]
        },
        {
          "output_type": "stream",
          "name": "stdout",
          "text": [
            "                   all         58        386      0.713      0.766      0.851      0.601\n"
          ]
        },
        {
          "output_type": "stream",
          "name": "stderr",
          "text": [
            "\n"
          ]
        },
        {
          "output_type": "stream",
          "name": "stdout",
          "text": [
            "\n",
            "      Epoch    GPU_mem   box_loss   cls_loss   dfl_loss  Instances       Size\n"
          ]
        },
        {
          "output_type": "stream",
          "name": "stderr",
          "text": [
            "       5/20      3.06G      1.175      1.175      1.024        241        640: 100%|██████████| 38/38 [00:16<00:00,  2.31it/s]\n",
            "                 Class     Images  Instances      Box(P          R      mAP50  mAP50-95): 100%|██████████| 2/2 [00:00<00:00,  2.24it/s]"
          ]
        },
        {
          "output_type": "stream",
          "name": "stdout",
          "text": [
            "                   all         58        386       0.89      0.889      0.955      0.702\n"
          ]
        },
        {
          "output_type": "stream",
          "name": "stderr",
          "text": [
            "\n"
          ]
        },
        {
          "output_type": "stream",
          "name": "stdout",
          "text": [
            "\n",
            "      Epoch    GPU_mem   box_loss   cls_loss   dfl_loss  Instances       Size\n"
          ]
        },
        {
          "output_type": "stream",
          "name": "stderr",
          "text": [
            "       6/20      3.28G      1.175      1.059      1.017        212        640: 100%|██████████| 38/38 [00:17<00:00,  2.16it/s]\n",
            "                 Class     Images  Instances      Box(P          R      mAP50  mAP50-95): 100%|██████████| 2/2 [00:00<00:00,  2.08it/s]"
          ]
        },
        {
          "output_type": "stream",
          "name": "stdout",
          "text": [
            "                   all         58        386      0.928      0.954      0.962      0.664\n"
          ]
        },
        {
          "output_type": "stream",
          "name": "stderr",
          "text": [
            "\n"
          ]
        },
        {
          "output_type": "stream",
          "name": "stdout",
          "text": [
            "\n",
            "      Epoch    GPU_mem   box_loss   cls_loss   dfl_loss  Instances       Size\n"
          ]
        },
        {
          "output_type": "stream",
          "name": "stderr",
          "text": [
            "       7/20      3.29G      1.145      1.001      1.013        221        640: 100%|██████████| 38/38 [00:15<00:00,  2.43it/s]\n",
            "                 Class     Images  Instances      Box(P          R      mAP50  mAP50-95): 100%|██████████| 2/2 [00:00<00:00,  2.06it/s]"
          ]
        },
        {
          "output_type": "stream",
          "name": "stdout",
          "text": [
            "                   all         58        386      0.946      0.941      0.974      0.742\n"
          ]
        },
        {
          "output_type": "stream",
          "name": "stderr",
          "text": [
            "\n"
          ]
        },
        {
          "output_type": "stream",
          "name": "stdout",
          "text": [
            "\n",
            "      Epoch    GPU_mem   box_loss   cls_loss   dfl_loss  Instances       Size\n"
          ]
        },
        {
          "output_type": "stream",
          "name": "stderr",
          "text": [
            "       8/20      3.31G      1.098     0.9137     0.9927        163        640: 100%|██████████| 38/38 [00:17<00:00,  2.18it/s]\n",
            "                 Class     Images  Instances      Box(P          R      mAP50  mAP50-95): 100%|██████████| 2/2 [00:01<00:00,  1.68it/s]"
          ]
        },
        {
          "output_type": "stream",
          "name": "stdout",
          "text": [
            "                   all         58        386      0.923      0.935      0.974      0.717\n"
          ]
        },
        {
          "output_type": "stream",
          "name": "stderr",
          "text": [
            "\n"
          ]
        },
        {
          "output_type": "stream",
          "name": "stdout",
          "text": [
            "\n",
            "      Epoch    GPU_mem   box_loss   cls_loss   dfl_loss  Instances       Size\n"
          ]
        },
        {
          "output_type": "stream",
          "name": "stderr",
          "text": [
            "       9/20      3.33G      1.065     0.8783     0.9913        221        640: 100%|██████████| 38/38 [00:16<00:00,  2.37it/s]\n",
            "                 Class     Images  Instances      Box(P          R      mAP50  mAP50-95): 100%|██████████| 2/2 [00:00<00:00,  2.01it/s]"
          ]
        },
        {
          "output_type": "stream",
          "name": "stdout",
          "text": [
            "                   all         58        386      0.957      0.952      0.984      0.746\n"
          ]
        },
        {
          "output_type": "stream",
          "name": "stderr",
          "text": [
            "\n"
          ]
        },
        {
          "output_type": "stream",
          "name": "stdout",
          "text": [
            "\n",
            "      Epoch    GPU_mem   box_loss   cls_loss   dfl_loss  Instances       Size\n"
          ]
        },
        {
          "output_type": "stream",
          "name": "stderr",
          "text": [
            "      10/20      3.35G      1.044     0.8301     0.9831        137        640: 100%|██████████| 38/38 [00:15<00:00,  2.39it/s]\n",
            "                 Class     Images  Instances      Box(P          R      mAP50  mAP50-95): 100%|██████████| 2/2 [00:01<00:00,  1.83it/s]"
          ]
        },
        {
          "output_type": "stream",
          "name": "stdout",
          "text": [
            "                   all         58        386      0.957      0.965      0.987      0.771\n"
          ]
        },
        {
          "output_type": "stream",
          "name": "stderr",
          "text": [
            "\n"
          ]
        },
        {
          "output_type": "stream",
          "name": "stdout",
          "text": [
            "Closing dataloader mosaic\n",
            "\u001b[34m\u001b[1malbumentations: \u001b[0mBlur(p=0.01, blur_limit=(3, 7)), MedianBlur(p=0.01, blur_limit=(3, 7)), ToGray(p=0.01, method='weighted_average', num_output_channels=3), CLAHE(p=0.01, clip_limit=(1.0, 4.0), tile_grid_size=(8, 8))\n",
            "\n",
            "      Epoch    GPU_mem   box_loss   cls_loss   dfl_loss  Instances       Size\n"
          ]
        },
        {
          "output_type": "stream",
          "name": "stderr",
          "text": [
            "      11/20      3.36G     0.9955     0.7963     0.9906        216        640: 100%|██████████| 38/38 [00:12<00:00,  2.97it/s]\n",
            "                 Class     Images  Instances      Box(P          R      mAP50  mAP50-95): 100%|██████████| 2/2 [00:01<00:00,  1.72it/s]"
          ]
        },
        {
          "output_type": "stream",
          "name": "stdout",
          "text": [
            "                   all         58        386       0.97      0.964      0.984      0.755\n"
          ]
        },
        {
          "output_type": "stream",
          "name": "stderr",
          "text": [
            "\n"
          ]
        },
        {
          "output_type": "stream",
          "name": "stdout",
          "text": [
            "\n",
            "      Epoch    GPU_mem   box_loss   cls_loss   dfl_loss  Instances       Size\n"
          ]
        },
        {
          "output_type": "stream",
          "name": "stderr",
          "text": [
            "      12/20      3.38G     0.9865      0.756      1.001        188        640: 100%|██████████| 38/38 [00:10<00:00,  3.76it/s]\n",
            "                 Class     Images  Instances      Box(P          R      mAP50  mAP50-95): 100%|██████████| 2/2 [00:01<00:00,  1.71it/s]"
          ]
        },
        {
          "output_type": "stream",
          "name": "stdout",
          "text": [
            "                   all         58        386      0.955      0.986      0.986      0.768\n"
          ]
        },
        {
          "output_type": "stream",
          "name": "stderr",
          "text": [
            "\n"
          ]
        },
        {
          "output_type": "stream",
          "name": "stdout",
          "text": [
            "\n",
            "      Epoch    GPU_mem   box_loss   cls_loss   dfl_loss  Instances       Size\n"
          ]
        },
        {
          "output_type": "stream",
          "name": "stderr",
          "text": [
            "      13/20       3.4G     0.9623     0.7164     0.9862        119        640: 100%|██████████| 38/38 [00:10<00:00,  3.64it/s]\n",
            "                 Class     Images  Instances      Box(P          R      mAP50  mAP50-95): 100%|██████████| 2/2 [00:00<00:00,  2.58it/s]"
          ]
        },
        {
          "output_type": "stream",
          "name": "stdout",
          "text": [
            "                   all         58        386      0.955      0.977      0.984      0.761\n"
          ]
        },
        {
          "output_type": "stream",
          "name": "stderr",
          "text": [
            "\n"
          ]
        },
        {
          "output_type": "stream",
          "name": "stdout",
          "text": [
            "\n",
            "      Epoch    GPU_mem   box_loss   cls_loss   dfl_loss  Instances       Size\n"
          ]
        },
        {
          "output_type": "stream",
          "name": "stderr",
          "text": [
            "      14/20      3.42G     0.9854      0.733     0.9979         75        640: 100%|██████████| 38/38 [00:10<00:00,  3.54it/s]\n",
            "                 Class     Images  Instances      Box(P          R      mAP50  mAP50-95): 100%|██████████| 2/2 [00:00<00:00,  2.25it/s]"
          ]
        },
        {
          "output_type": "stream",
          "name": "stdout",
          "text": [
            "                   all         58        386      0.967      0.987      0.989      0.767\n"
          ]
        },
        {
          "output_type": "stream",
          "name": "stderr",
          "text": [
            "\n"
          ]
        },
        {
          "output_type": "stream",
          "name": "stdout",
          "text": [
            "\n",
            "      Epoch    GPU_mem   box_loss   cls_loss   dfl_loss  Instances       Size\n"
          ]
        },
        {
          "output_type": "stream",
          "name": "stderr",
          "text": [
            "      15/20      3.43G     0.9486     0.6933     0.9848        158        640: 100%|██████████| 38/38 [00:10<00:00,  3.47it/s]\n",
            "                 Class     Images  Instances      Box(P          R      mAP50  mAP50-95): 100%|██████████| 2/2 [00:00<00:00,  2.25it/s]"
          ]
        },
        {
          "output_type": "stream",
          "name": "stdout",
          "text": [
            "                   all         58        386      0.978      0.986      0.986      0.765\n"
          ]
        },
        {
          "output_type": "stream",
          "name": "stderr",
          "text": [
            "\n"
          ]
        },
        {
          "output_type": "stream",
          "name": "stdout",
          "text": [
            "\n",
            "      Epoch    GPU_mem   box_loss   cls_loss   dfl_loss  Instances       Size\n"
          ]
        },
        {
          "output_type": "stream",
          "name": "stderr",
          "text": [
            "      16/20      3.45G      0.928     0.6755     0.9781        193        640: 100%|██████████| 38/38 [00:10<00:00,  3.49it/s]\n",
            "                 Class     Images  Instances      Box(P          R      mAP50  mAP50-95): 100%|██████████| 2/2 [00:00<00:00,  2.36it/s]"
          ]
        },
        {
          "output_type": "stream",
          "name": "stdout",
          "text": [
            "                   all         58        386      0.976      0.983      0.989      0.774\n"
          ]
        },
        {
          "output_type": "stream",
          "name": "stderr",
          "text": [
            "\n"
          ]
        },
        {
          "output_type": "stream",
          "name": "stdout",
          "text": [
            "\n",
            "      Epoch    GPU_mem   box_loss   cls_loss   dfl_loss  Instances       Size\n"
          ]
        },
        {
          "output_type": "stream",
          "name": "stderr",
          "text": [
            "      17/20      3.46G     0.9064     0.6504     0.9708        150        640: 100%|██████████| 38/38 [00:11<00:00,  3.42it/s]\n",
            "                 Class     Images  Instances      Box(P          R      mAP50  mAP50-95): 100%|██████████| 2/2 [00:00<00:00,  2.28it/s]"
          ]
        },
        {
          "output_type": "stream",
          "name": "stdout",
          "text": [
            "                   all         58        386      0.969      0.985      0.988      0.779\n"
          ]
        },
        {
          "output_type": "stream",
          "name": "stderr",
          "text": [
            "\n"
          ]
        },
        {
          "output_type": "stream",
          "name": "stdout",
          "text": [
            "\n",
            "      Epoch    GPU_mem   box_loss   cls_loss   dfl_loss  Instances       Size\n"
          ]
        },
        {
          "output_type": "stream",
          "name": "stderr",
          "text": [
            "      18/20      3.48G     0.9038     0.6467     0.9627        163        640: 100%|██████████| 38/38 [00:10<00:00,  3.52it/s]\n",
            "                 Class     Images  Instances      Box(P          R      mAP50  mAP50-95): 100%|██████████| 2/2 [00:00<00:00,  2.44it/s]"
          ]
        },
        {
          "output_type": "stream",
          "name": "stdout",
          "text": [
            "                   all         58        386      0.971      0.981      0.989      0.784\n"
          ]
        },
        {
          "output_type": "stream",
          "name": "stderr",
          "text": [
            "\n"
          ]
        },
        {
          "output_type": "stream",
          "name": "stdout",
          "text": [
            "\n",
            "      Epoch    GPU_mem   box_loss   cls_loss   dfl_loss  Instances       Size\n"
          ]
        },
        {
          "output_type": "stream",
          "name": "stderr",
          "text": [
            "      19/20       3.5G     0.8846     0.6357     0.9514        151        640: 100%|██████████| 38/38 [00:10<00:00,  3.46it/s]\n",
            "                 Class     Images  Instances      Box(P          R      mAP50  mAP50-95): 100%|██████████| 2/2 [00:00<00:00,  2.27it/s]"
          ]
        },
        {
          "output_type": "stream",
          "name": "stdout",
          "text": [
            "                   all         58        386      0.977      0.983      0.987      0.788\n"
          ]
        },
        {
          "output_type": "stream",
          "name": "stderr",
          "text": [
            "\n"
          ]
        },
        {
          "output_type": "stream",
          "name": "stdout",
          "text": [
            "\n",
            "      Epoch    GPU_mem   box_loss   cls_loss   dfl_loss  Instances       Size\n"
          ]
        },
        {
          "output_type": "stream",
          "name": "stderr",
          "text": [
            "      20/20      3.52G      0.893     0.6426     0.9578         82        640: 100%|██████████| 38/38 [00:11<00:00,  3.44it/s]\n",
            "                 Class     Images  Instances      Box(P          R      mAP50  mAP50-95): 100%|██████████| 2/2 [00:00<00:00,  2.36it/s]"
          ]
        },
        {
          "output_type": "stream",
          "name": "stdout",
          "text": [
            "                   all         58        386      0.978      0.983      0.987      0.785\n"
          ]
        },
        {
          "output_type": "stream",
          "name": "stderr",
          "text": [
            "\n"
          ]
        },
        {
          "output_type": "stream",
          "name": "stdout",
          "text": [
            "\n",
            "20 epochs completed in 0.086 hours.\n",
            "Optimizer stripped from runs/detect/train/weights/last.pt, 6.2MB\n",
            "Optimizer stripped from runs/detect/train/weights/best.pt, 6.2MB\n",
            "\n",
            "Validating runs/detect/train/weights/best.pt...\n",
            "Ultralytics 8.3.165 🚀 Python-3.11.13 torch-2.6.0+cu124 CUDA:0 (Tesla T4, 15095MiB)\n",
            "Model summary (fused): 72 layers, 3,008,183 parameters, 0 gradients, 8.1 GFLOPs\n"
          ]
        },
        {
          "output_type": "stream",
          "name": "stderr",
          "text": [
            "                 Class     Images  Instances      Box(P          R      mAP50  mAP50-95): 100%|██████████| 2/2 [00:00<00:00,  2.32it/s]\n"
          ]
        },
        {
          "output_type": "stream",
          "name": "stdout",
          "text": [
            "                   all         58        386      0.977      0.983      0.987      0.787\n",
            "          black-bishop         13         22      0.994      0.955      0.976      0.694\n",
            "            black-king         29         29          1      0.965      0.995      0.829\n",
            "          black-knight         26         30      0.994          1      0.995        0.8\n",
            "            black-pawn         25         77      0.997          1      0.995      0.787\n",
            "           black-queen         11         11      0.959          1      0.995      0.789\n",
            "            black-rook         24         28          1      0.994      0.995      0.745\n",
            "          white-bishop         17         22      0.955          1      0.972      0.776\n",
            "            white-king         29         29          1      0.978      0.995      0.829\n",
            "          white-knight         17         19      0.943          1       0.99      0.796\n",
            "            white-pawn         26         77      0.992          1      0.995       0.79\n",
            "           white-queen         16         16        0.9      0.938      0.973      0.794\n",
            "            white-rook         18         26      0.989      0.962      0.974      0.808\n",
            "Speed: 0.3ms preprocess, 2.5ms inference, 0.0ms loss, 2.6ms postprocess per image\n",
            "Results saved to \u001b[1mruns/detect/train\u001b[0m\n"
          ]
        }
      ]
    },
    {
      "cell_type": "code",
      "metadata": {
        "colab": {
          "base_uri": "https://localhost:8080/"
        },
        "id": "82142c8e",
        "outputId": "4e01e035-e38d-46ec-9f23-3e0310e7f38f"
      },
      "source": [
        "# Evaluate the trained model on the validation set\n",
        "# The 'best.pt' file contains the weights of the model with the best performance during training\n",
        "evaluation_results = model.val(data=temp_yaml_path)\n",
        "\n",
        "# You can print or inspect the evaluation results\n",
        "print(evaluation_results)"
      ],
      "execution_count": 26,
      "outputs": [
        {
          "output_type": "stream",
          "name": "stdout",
          "text": [
            "Ultralytics 8.3.165 🚀 Python-3.11.13 torch-2.6.0+cu124 CUDA:0 (Tesla T4, 15095MiB)\n",
            "Model summary (fused): 72 layers, 3,008,183 parameters, 0 gradients, 8.1 GFLOPs\n",
            "\u001b[34m\u001b[1mval: \u001b[0mFast image access ✅ (ping: 0.0±0.0 ms, read: 869.8±220.2 MB/s, size: 24.9 KB)\n"
          ]
        },
        {
          "output_type": "stream",
          "name": "stderr",
          "text": [
            "\u001b[34m\u001b[1mval: \u001b[0mScanning /content/chess_yolo_dataset/Chess Pieces.yolov8-obb/valid/labels.cache... 58 images, 0 backgrounds, 0 corrupt: 100%|██████████| 58/58 [00:00<?, ?it/s]\n",
            "                 Class     Images  Instances      Box(P          R      mAP50  mAP50-95): 100%|██████████| 4/4 [00:04<00:00,  1.12s/it]\n"
          ]
        },
        {
          "output_type": "stream",
          "name": "stdout",
          "text": [
            "                   all         58        386      0.977      0.983      0.987      0.789\n",
            "          black-bishop         13         22      0.995      0.955      0.976        0.7\n",
            "            black-king         29         29          1      0.965      0.995      0.827\n",
            "          black-knight         26         30      0.994          1      0.995       0.79\n",
            "            black-pawn         25         77      0.998          1      0.995      0.791\n",
            "           black-queen         11         11      0.959          1      0.995      0.804\n",
            "            black-rook         24         28          1      0.994      0.995      0.743\n",
            "          white-bishop         17         22      0.956          1      0.972      0.791\n",
            "            white-king         29         29          1      0.978      0.995       0.83\n",
            "          white-knight         17         19      0.943          1       0.99      0.798\n",
            "            white-pawn         26         77      0.992          1      0.995      0.787\n",
            "           white-queen         16         16      0.901      0.938      0.973        0.8\n",
            "            white-rook         18         26      0.989      0.962      0.974      0.803\n",
            "Speed: 14.8ms preprocess, 17.0ms inference, 0.0ms loss, 6.5ms postprocess per image\n",
            "Results saved to \u001b[1mruns/detect/train2\u001b[0m\n",
            "ultralytics.utils.metrics.DetMetrics object with attributes:\n",
            "\n",
            "ap_class_index: array([ 1,  2,  3,  4,  5,  6,  7,  8,  9, 10, 11, 12])\n",
            "box: ultralytics.utils.metrics.Metric object\n",
            "confusion_matrix: <ultralytics.utils.metrics.ConfusionMatrix object at 0x7b75754c02d0>\n",
            "curves: ['Precision-Recall(B)', 'F1-Confidence(B)', 'Precision-Confidence(B)', 'Recall-Confidence(B)']\n",
            "curves_results: [[array([          0,    0.001001,    0.002002,    0.003003,    0.004004,    0.005005,    0.006006,    0.007007,    0.008008,    0.009009,     0.01001,    0.011011,    0.012012,    0.013013,    0.014014,    0.015015,    0.016016,    0.017017,    0.018018,    0.019019,     0.02002,    0.021021,    0.022022,    0.023023,\n",
            "          0.024024,    0.025025,    0.026026,    0.027027,    0.028028,    0.029029,     0.03003,    0.031031,    0.032032,    0.033033,    0.034034,    0.035035,    0.036036,    0.037037,    0.038038,    0.039039,     0.04004,    0.041041,    0.042042,    0.043043,    0.044044,    0.045045,    0.046046,    0.047047,\n",
            "          0.048048,    0.049049,     0.05005,    0.051051,    0.052052,    0.053053,    0.054054,    0.055055,    0.056056,    0.057057,    0.058058,    0.059059,     0.06006,    0.061061,    0.062062,    0.063063,    0.064064,    0.065065,    0.066066,    0.067067,    0.068068,    0.069069,     0.07007,    0.071071,\n",
            "          0.072072,    0.073073,    0.074074,    0.075075,    0.076076,    0.077077,    0.078078,    0.079079,     0.08008,    0.081081,    0.082082,    0.083083,    0.084084,    0.085085,    0.086086,    0.087087,    0.088088,    0.089089,     0.09009,    0.091091,    0.092092,    0.093093,    0.094094,    0.095095,\n",
            "          0.096096,    0.097097,    0.098098,    0.099099,      0.1001,      0.1011,      0.1021,      0.1031,      0.1041,     0.10511,     0.10611,     0.10711,     0.10811,     0.10911,     0.11011,     0.11111,     0.11211,     0.11311,     0.11411,     0.11512,     0.11612,     0.11712,     0.11812,     0.11912,\n",
            "           0.12012,     0.12112,     0.12212,     0.12312,     0.12412,     0.12513,     0.12613,     0.12713,     0.12813,     0.12913,     0.13013,     0.13113,     0.13213,     0.13313,     0.13413,     0.13514,     0.13614,     0.13714,     0.13814,     0.13914,     0.14014,     0.14114,     0.14214,     0.14314,\n",
            "           0.14414,     0.14515,     0.14615,     0.14715,     0.14815,     0.14915,     0.15015,     0.15115,     0.15215,     0.15315,     0.15415,     0.15516,     0.15616,     0.15716,     0.15816,     0.15916,     0.16016,     0.16116,     0.16216,     0.16316,     0.16416,     0.16517,     0.16617,     0.16717,\n",
            "           0.16817,     0.16917,     0.17017,     0.17117,     0.17217,     0.17317,     0.17417,     0.17518,     0.17618,     0.17718,     0.17818,     0.17918,     0.18018,     0.18118,     0.18218,     0.18318,     0.18418,     0.18519,     0.18619,     0.18719,     0.18819,     0.18919,     0.19019,     0.19119,\n",
            "           0.19219,     0.19319,     0.19419,      0.1952,      0.1962,      0.1972,      0.1982,      0.1992,      0.2002,      0.2012,      0.2022,      0.2032,      0.2042,     0.20521,     0.20621,     0.20721,     0.20821,     0.20921,     0.21021,     0.21121,     0.21221,     0.21321,     0.21421,     0.21522,\n",
            "           0.21622,     0.21722,     0.21822,     0.21922,     0.22022,     0.22122,     0.22222,     0.22322,     0.22422,     0.22523,     0.22623,     0.22723,     0.22823,     0.22923,     0.23023,     0.23123,     0.23223,     0.23323,     0.23423,     0.23524,     0.23624,     0.23724,     0.23824,     0.23924,\n",
            "           0.24024,     0.24124,     0.24224,     0.24324,     0.24424,     0.24525,     0.24625,     0.24725,     0.24825,     0.24925,     0.25025,     0.25125,     0.25225,     0.25325,     0.25425,     0.25526,     0.25626,     0.25726,     0.25826,     0.25926,     0.26026,     0.26126,     0.26226,     0.26326,\n",
            "           0.26426,     0.26527,     0.26627,     0.26727,     0.26827,     0.26927,     0.27027,     0.27127,     0.27227,     0.27327,     0.27427,     0.27528,     0.27628,     0.27728,     0.27828,     0.27928,     0.28028,     0.28128,     0.28228,     0.28328,     0.28428,     0.28529,     0.28629,     0.28729,\n",
            "           0.28829,     0.28929,     0.29029,     0.29129,     0.29229,     0.29329,     0.29429,      0.2953,      0.2963,      0.2973,      0.2983,      0.2993,      0.3003,      0.3013,      0.3023,      0.3033,      0.3043,     0.30531,     0.30631,     0.30731,     0.30831,     0.30931,     0.31031,     0.31131,\n",
            "           0.31231,     0.31331,     0.31431,     0.31532,     0.31632,     0.31732,     0.31832,     0.31932,     0.32032,     0.32132,     0.32232,     0.32332,     0.32432,     0.32533,     0.32633,     0.32733,     0.32833,     0.32933,     0.33033,     0.33133,     0.33233,     0.33333,     0.33433,     0.33534,\n",
            "           0.33634,     0.33734,     0.33834,     0.33934,     0.34034,     0.34134,     0.34234,     0.34334,     0.34434,     0.34535,     0.34635,     0.34735,     0.34835,     0.34935,     0.35035,     0.35135,     0.35235,     0.35335,     0.35435,     0.35536,     0.35636,     0.35736,     0.35836,     0.35936,\n",
            "           0.36036,     0.36136,     0.36236,     0.36336,     0.36436,     0.36537,     0.36637,     0.36737,     0.36837,     0.36937,     0.37037,     0.37137,     0.37237,     0.37337,     0.37437,     0.37538,     0.37638,     0.37738,     0.37838,     0.37938,     0.38038,     0.38138,     0.38238,     0.38338,\n",
            "           0.38438,     0.38539,     0.38639,     0.38739,     0.38839,     0.38939,     0.39039,     0.39139,     0.39239,     0.39339,     0.39439,      0.3954,      0.3964,      0.3974,      0.3984,      0.3994,      0.4004,      0.4014,      0.4024,      0.4034,      0.4044,     0.40541,     0.40641,     0.40741,\n",
            "           0.40841,     0.40941,     0.41041,     0.41141,     0.41241,     0.41341,     0.41441,     0.41542,     0.41642,     0.41742,     0.41842,     0.41942,     0.42042,     0.42142,     0.42242,     0.42342,     0.42442,     0.42543,     0.42643,     0.42743,     0.42843,     0.42943,     0.43043,     0.43143,\n",
            "           0.43243,     0.43343,     0.43443,     0.43544,     0.43644,     0.43744,     0.43844,     0.43944,     0.44044,     0.44144,     0.44244,     0.44344,     0.44444,     0.44545,     0.44645,     0.44745,     0.44845,     0.44945,     0.45045,     0.45145,     0.45245,     0.45345,     0.45445,     0.45546,\n",
            "           0.45646,     0.45746,     0.45846,     0.45946,     0.46046,     0.46146,     0.46246,     0.46346,     0.46446,     0.46547,     0.46647,     0.46747,     0.46847,     0.46947,     0.47047,     0.47147,     0.47247,     0.47347,     0.47447,     0.47548,     0.47648,     0.47748,     0.47848,     0.47948,\n",
            "           0.48048,     0.48148,     0.48248,     0.48348,     0.48448,     0.48549,     0.48649,     0.48749,     0.48849,     0.48949,     0.49049,     0.49149,     0.49249,     0.49349,     0.49449,      0.4955,      0.4965,      0.4975,      0.4985,      0.4995,      0.5005,      0.5015,      0.5025,      0.5035,\n",
            "            0.5045,     0.50551,     0.50651,     0.50751,     0.50851,     0.50951,     0.51051,     0.51151,     0.51251,     0.51351,     0.51451,     0.51552,     0.51652,     0.51752,     0.51852,     0.51952,     0.52052,     0.52152,     0.52252,     0.52352,     0.52452,     0.52553,     0.52653,     0.52753,\n",
            "           0.52853,     0.52953,     0.53053,     0.53153,     0.53253,     0.53353,     0.53453,     0.53554,     0.53654,     0.53754,     0.53854,     0.53954,     0.54054,     0.54154,     0.54254,     0.54354,     0.54454,     0.54555,     0.54655,     0.54755,     0.54855,     0.54955,     0.55055,     0.55155,\n",
            "           0.55255,     0.55355,     0.55455,     0.55556,     0.55656,     0.55756,     0.55856,     0.55956,     0.56056,     0.56156,     0.56256,     0.56356,     0.56456,     0.56557,     0.56657,     0.56757,     0.56857,     0.56957,     0.57057,     0.57157,     0.57257,     0.57357,     0.57457,     0.57558,\n",
            "           0.57658,     0.57758,     0.57858,     0.57958,     0.58058,     0.58158,     0.58258,     0.58358,     0.58458,     0.58559,     0.58659,     0.58759,     0.58859,     0.58959,     0.59059,     0.59159,     0.59259,     0.59359,     0.59459,      0.5956,      0.5966,      0.5976,      0.5986,      0.5996,\n",
            "            0.6006,      0.6016,      0.6026,      0.6036,      0.6046,     0.60561,     0.60661,     0.60761,     0.60861,     0.60961,     0.61061,     0.61161,     0.61261,     0.61361,     0.61461,     0.61562,     0.61662,     0.61762,     0.61862,     0.61962,     0.62062,     0.62162,     0.62262,     0.62362,\n",
            "           0.62462,     0.62563,     0.62663,     0.62763,     0.62863,     0.62963,     0.63063,     0.63163,     0.63263,     0.63363,     0.63463,     0.63564,     0.63664,     0.63764,     0.63864,     0.63964,     0.64064,     0.64164,     0.64264,     0.64364,     0.64464,     0.64565,     0.64665,     0.64765,\n",
            "           0.64865,     0.64965,     0.65065,     0.65165,     0.65265,     0.65365,     0.65465,     0.65566,     0.65666,     0.65766,     0.65866,     0.65966,     0.66066,     0.66166,     0.66266,     0.66366,     0.66466,     0.66567,     0.66667,     0.66767,     0.66867,     0.66967,     0.67067,     0.67167,\n",
            "           0.67267,     0.67367,     0.67467,     0.67568,     0.67668,     0.67768,     0.67868,     0.67968,     0.68068,     0.68168,     0.68268,     0.68368,     0.68468,     0.68569,     0.68669,     0.68769,     0.68869,     0.68969,     0.69069,     0.69169,     0.69269,     0.69369,     0.69469,      0.6957,\n",
            "            0.6967,      0.6977,      0.6987,      0.6997,      0.7007,      0.7017,      0.7027,      0.7037,      0.7047,     0.70571,     0.70671,     0.70771,     0.70871,     0.70971,     0.71071,     0.71171,     0.71271,     0.71371,     0.71471,     0.71572,     0.71672,     0.71772,     0.71872,     0.71972,\n",
            "           0.72072,     0.72172,     0.72272,     0.72372,     0.72472,     0.72573,     0.72673,     0.72773,     0.72873,     0.72973,     0.73073,     0.73173,     0.73273,     0.73373,     0.73473,     0.73574,     0.73674,     0.73774,     0.73874,     0.73974,     0.74074,     0.74174,     0.74274,     0.74374,\n",
            "           0.74474,     0.74575,     0.74675,     0.74775,     0.74875,     0.74975,     0.75075,     0.75175,     0.75275,     0.75375,     0.75475,     0.75576,     0.75676,     0.75776,     0.75876,     0.75976,     0.76076,     0.76176,     0.76276,     0.76376,     0.76476,     0.76577,     0.76677,     0.76777,\n",
            "           0.76877,     0.76977,     0.77077,     0.77177,     0.77277,     0.77377,     0.77477,     0.77578,     0.77678,     0.77778,     0.77878,     0.77978,     0.78078,     0.78178,     0.78278,     0.78378,     0.78478,     0.78579,     0.78679,     0.78779,     0.78879,     0.78979,     0.79079,     0.79179,\n",
            "           0.79279,     0.79379,     0.79479,      0.7958,      0.7968,      0.7978,      0.7988,      0.7998,      0.8008,      0.8018,      0.8028,      0.8038,      0.8048,     0.80581,     0.80681,     0.80781,     0.80881,     0.80981,     0.81081,     0.81181,     0.81281,     0.81381,     0.81481,     0.81582,\n",
            "           0.81682,     0.81782,     0.81882,     0.81982,     0.82082,     0.82182,     0.82282,     0.82382,     0.82482,     0.82583,     0.82683,     0.82783,     0.82883,     0.82983,     0.83083,     0.83183,     0.83283,     0.83383,     0.83483,     0.83584,     0.83684,     0.83784,     0.83884,     0.83984,\n",
            "           0.84084,     0.84184,     0.84284,     0.84384,     0.84484,     0.84585,     0.84685,     0.84785,     0.84885,     0.84985,     0.85085,     0.85185,     0.85285,     0.85385,     0.85485,     0.85586,     0.85686,     0.85786,     0.85886,     0.85986,     0.86086,     0.86186,     0.86286,     0.86386,\n",
            "           0.86486,     0.86587,     0.86687,     0.86787,     0.86887,     0.86987,     0.87087,     0.87187,     0.87287,     0.87387,     0.87487,     0.87588,     0.87688,     0.87788,     0.87888,     0.87988,     0.88088,     0.88188,     0.88288,     0.88388,     0.88488,     0.88589,     0.88689,     0.88789,\n",
            "           0.88889,     0.88989,     0.89089,     0.89189,     0.89289,     0.89389,     0.89489,      0.8959,      0.8969,      0.8979,      0.8989,      0.8999,      0.9009,      0.9019,      0.9029,      0.9039,      0.9049,     0.90591,     0.90691,     0.90791,     0.90891,     0.90991,     0.91091,     0.91191,\n",
            "           0.91291,     0.91391,     0.91491,     0.91592,     0.91692,     0.91792,     0.91892,     0.91992,     0.92092,     0.92192,     0.92292,     0.92392,     0.92492,     0.92593,     0.92693,     0.92793,     0.92893,     0.92993,     0.93093,     0.93193,     0.93293,     0.93393,     0.93493,     0.93594,\n",
            "           0.93694,     0.93794,     0.93894,     0.93994,     0.94094,     0.94194,     0.94294,     0.94394,     0.94494,     0.94595,     0.94695,     0.94795,     0.94895,     0.94995,     0.95095,     0.95195,     0.95295,     0.95395,     0.95495,     0.95596,     0.95696,     0.95796,     0.95896,     0.95996,\n",
            "           0.96096,     0.96196,     0.96296,     0.96396,     0.96496,     0.96597,     0.96697,     0.96797,     0.96897,     0.96997,     0.97097,     0.97197,     0.97297,     0.97397,     0.97497,     0.97598,     0.97698,     0.97798,     0.97898,     0.97998,     0.98098,     0.98198,     0.98298,     0.98398,\n",
            "           0.98498,     0.98599,     0.98699,     0.98799,     0.98899,     0.98999,     0.99099,     0.99199,     0.99299,     0.99399,     0.99499,       0.996,       0.997,       0.998,       0.999,           1]), array([[          1,           1,           1, ...,     0.52381,     0.52381,           0],\n",
            "       [          1,           1,           1, ...,           1,           1,           0],\n",
            "       [          1,           1,           1, ...,           1,           1,           0],\n",
            "       ...,\n",
            "       [          1,           1,           1, ...,           1,           1,           0],\n",
            "       [          1,           1,           1, ...,     0.88889,     0.88889,           0],\n",
            "       [          1,           1,           1, ...,     0.28571,     0.28571,           0]]), 'Recall', 'Precision'], [array([          0,    0.001001,    0.002002,    0.003003,    0.004004,    0.005005,    0.006006,    0.007007,    0.008008,    0.009009,     0.01001,    0.011011,    0.012012,    0.013013,    0.014014,    0.015015,    0.016016,    0.017017,    0.018018,    0.019019,     0.02002,    0.021021,    0.022022,    0.023023,\n",
            "          0.024024,    0.025025,    0.026026,    0.027027,    0.028028,    0.029029,     0.03003,    0.031031,    0.032032,    0.033033,    0.034034,    0.035035,    0.036036,    0.037037,    0.038038,    0.039039,     0.04004,    0.041041,    0.042042,    0.043043,    0.044044,    0.045045,    0.046046,    0.047047,\n",
            "          0.048048,    0.049049,     0.05005,    0.051051,    0.052052,    0.053053,    0.054054,    0.055055,    0.056056,    0.057057,    0.058058,    0.059059,     0.06006,    0.061061,    0.062062,    0.063063,    0.064064,    0.065065,    0.066066,    0.067067,    0.068068,    0.069069,     0.07007,    0.071071,\n",
            "          0.072072,    0.073073,    0.074074,    0.075075,    0.076076,    0.077077,    0.078078,    0.079079,     0.08008,    0.081081,    0.082082,    0.083083,    0.084084,    0.085085,    0.086086,    0.087087,    0.088088,    0.089089,     0.09009,    0.091091,    0.092092,    0.093093,    0.094094,    0.095095,\n",
            "          0.096096,    0.097097,    0.098098,    0.099099,      0.1001,      0.1011,      0.1021,      0.1031,      0.1041,     0.10511,     0.10611,     0.10711,     0.10811,     0.10911,     0.11011,     0.11111,     0.11211,     0.11311,     0.11411,     0.11512,     0.11612,     0.11712,     0.11812,     0.11912,\n",
            "           0.12012,     0.12112,     0.12212,     0.12312,     0.12412,     0.12513,     0.12613,     0.12713,     0.12813,     0.12913,     0.13013,     0.13113,     0.13213,     0.13313,     0.13413,     0.13514,     0.13614,     0.13714,     0.13814,     0.13914,     0.14014,     0.14114,     0.14214,     0.14314,\n",
            "           0.14414,     0.14515,     0.14615,     0.14715,     0.14815,     0.14915,     0.15015,     0.15115,     0.15215,     0.15315,     0.15415,     0.15516,     0.15616,     0.15716,     0.15816,     0.15916,     0.16016,     0.16116,     0.16216,     0.16316,     0.16416,     0.16517,     0.16617,     0.16717,\n",
            "           0.16817,     0.16917,     0.17017,     0.17117,     0.17217,     0.17317,     0.17417,     0.17518,     0.17618,     0.17718,     0.17818,     0.17918,     0.18018,     0.18118,     0.18218,     0.18318,     0.18418,     0.18519,     0.18619,     0.18719,     0.18819,     0.18919,     0.19019,     0.19119,\n",
            "           0.19219,     0.19319,     0.19419,      0.1952,      0.1962,      0.1972,      0.1982,      0.1992,      0.2002,      0.2012,      0.2022,      0.2032,      0.2042,     0.20521,     0.20621,     0.20721,     0.20821,     0.20921,     0.21021,     0.21121,     0.21221,     0.21321,     0.21421,     0.21522,\n",
            "           0.21622,     0.21722,     0.21822,     0.21922,     0.22022,     0.22122,     0.22222,     0.22322,     0.22422,     0.22523,     0.22623,     0.22723,     0.22823,     0.22923,     0.23023,     0.23123,     0.23223,     0.23323,     0.23423,     0.23524,     0.23624,     0.23724,     0.23824,     0.23924,\n",
            "           0.24024,     0.24124,     0.24224,     0.24324,     0.24424,     0.24525,     0.24625,     0.24725,     0.24825,     0.24925,     0.25025,     0.25125,     0.25225,     0.25325,     0.25425,     0.25526,     0.25626,     0.25726,     0.25826,     0.25926,     0.26026,     0.26126,     0.26226,     0.26326,\n",
            "           0.26426,     0.26527,     0.26627,     0.26727,     0.26827,     0.26927,     0.27027,     0.27127,     0.27227,     0.27327,     0.27427,     0.27528,     0.27628,     0.27728,     0.27828,     0.27928,     0.28028,     0.28128,     0.28228,     0.28328,     0.28428,     0.28529,     0.28629,     0.28729,\n",
            "           0.28829,     0.28929,     0.29029,     0.29129,     0.29229,     0.29329,     0.29429,      0.2953,      0.2963,      0.2973,      0.2983,      0.2993,      0.3003,      0.3013,      0.3023,      0.3033,      0.3043,     0.30531,     0.30631,     0.30731,     0.30831,     0.30931,     0.31031,     0.31131,\n",
            "           0.31231,     0.31331,     0.31431,     0.31532,     0.31632,     0.31732,     0.31832,     0.31932,     0.32032,     0.32132,     0.32232,     0.32332,     0.32432,     0.32533,     0.32633,     0.32733,     0.32833,     0.32933,     0.33033,     0.33133,     0.33233,     0.33333,     0.33433,     0.33534,\n",
            "           0.33634,     0.33734,     0.33834,     0.33934,     0.34034,     0.34134,     0.34234,     0.34334,     0.34434,     0.34535,     0.34635,     0.34735,     0.34835,     0.34935,     0.35035,     0.35135,     0.35235,     0.35335,     0.35435,     0.35536,     0.35636,     0.35736,     0.35836,     0.35936,\n",
            "           0.36036,     0.36136,     0.36236,     0.36336,     0.36436,     0.36537,     0.36637,     0.36737,     0.36837,     0.36937,     0.37037,     0.37137,     0.37237,     0.37337,     0.37437,     0.37538,     0.37638,     0.37738,     0.37838,     0.37938,     0.38038,     0.38138,     0.38238,     0.38338,\n",
            "           0.38438,     0.38539,     0.38639,     0.38739,     0.38839,     0.38939,     0.39039,     0.39139,     0.39239,     0.39339,     0.39439,      0.3954,      0.3964,      0.3974,      0.3984,      0.3994,      0.4004,      0.4014,      0.4024,      0.4034,      0.4044,     0.40541,     0.40641,     0.40741,\n",
            "           0.40841,     0.40941,     0.41041,     0.41141,     0.41241,     0.41341,     0.41441,     0.41542,     0.41642,     0.41742,     0.41842,     0.41942,     0.42042,     0.42142,     0.42242,     0.42342,     0.42442,     0.42543,     0.42643,     0.42743,     0.42843,     0.42943,     0.43043,     0.43143,\n",
            "           0.43243,     0.43343,     0.43443,     0.43544,     0.43644,     0.43744,     0.43844,     0.43944,     0.44044,     0.44144,     0.44244,     0.44344,     0.44444,     0.44545,     0.44645,     0.44745,     0.44845,     0.44945,     0.45045,     0.45145,     0.45245,     0.45345,     0.45445,     0.45546,\n",
            "           0.45646,     0.45746,     0.45846,     0.45946,     0.46046,     0.46146,     0.46246,     0.46346,     0.46446,     0.46547,     0.46647,     0.46747,     0.46847,     0.46947,     0.47047,     0.47147,     0.47247,     0.47347,     0.47447,     0.47548,     0.47648,     0.47748,     0.47848,     0.47948,\n",
            "           0.48048,     0.48148,     0.48248,     0.48348,     0.48448,     0.48549,     0.48649,     0.48749,     0.48849,     0.48949,     0.49049,     0.49149,     0.49249,     0.49349,     0.49449,      0.4955,      0.4965,      0.4975,      0.4985,      0.4995,      0.5005,      0.5015,      0.5025,      0.5035,\n",
            "            0.5045,     0.50551,     0.50651,     0.50751,     0.50851,     0.50951,     0.51051,     0.51151,     0.51251,     0.51351,     0.51451,     0.51552,     0.51652,     0.51752,     0.51852,     0.51952,     0.52052,     0.52152,     0.52252,     0.52352,     0.52452,     0.52553,     0.52653,     0.52753,\n",
            "           0.52853,     0.52953,     0.53053,     0.53153,     0.53253,     0.53353,     0.53453,     0.53554,     0.53654,     0.53754,     0.53854,     0.53954,     0.54054,     0.54154,     0.54254,     0.54354,     0.54454,     0.54555,     0.54655,     0.54755,     0.54855,     0.54955,     0.55055,     0.55155,\n",
            "           0.55255,     0.55355,     0.55455,     0.55556,     0.55656,     0.55756,     0.55856,     0.55956,     0.56056,     0.56156,     0.56256,     0.56356,     0.56456,     0.56557,     0.56657,     0.56757,     0.56857,     0.56957,     0.57057,     0.57157,     0.57257,     0.57357,     0.57457,     0.57558,\n",
            "           0.57658,     0.57758,     0.57858,     0.57958,     0.58058,     0.58158,     0.58258,     0.58358,     0.58458,     0.58559,     0.58659,     0.58759,     0.58859,     0.58959,     0.59059,     0.59159,     0.59259,     0.59359,     0.59459,      0.5956,      0.5966,      0.5976,      0.5986,      0.5996,\n",
            "            0.6006,      0.6016,      0.6026,      0.6036,      0.6046,     0.60561,     0.60661,     0.60761,     0.60861,     0.60961,     0.61061,     0.61161,     0.61261,     0.61361,     0.61461,     0.61562,     0.61662,     0.61762,     0.61862,     0.61962,     0.62062,     0.62162,     0.62262,     0.62362,\n",
            "           0.62462,     0.62563,     0.62663,     0.62763,     0.62863,     0.62963,     0.63063,     0.63163,     0.63263,     0.63363,     0.63463,     0.63564,     0.63664,     0.63764,     0.63864,     0.63964,     0.64064,     0.64164,     0.64264,     0.64364,     0.64464,     0.64565,     0.64665,     0.64765,\n",
            "           0.64865,     0.64965,     0.65065,     0.65165,     0.65265,     0.65365,     0.65465,     0.65566,     0.65666,     0.65766,     0.65866,     0.65966,     0.66066,     0.66166,     0.66266,     0.66366,     0.66466,     0.66567,     0.66667,     0.66767,     0.66867,     0.66967,     0.67067,     0.67167,\n",
            "           0.67267,     0.67367,     0.67467,     0.67568,     0.67668,     0.67768,     0.67868,     0.67968,     0.68068,     0.68168,     0.68268,     0.68368,     0.68468,     0.68569,     0.68669,     0.68769,     0.68869,     0.68969,     0.69069,     0.69169,     0.69269,     0.69369,     0.69469,      0.6957,\n",
            "            0.6967,      0.6977,      0.6987,      0.6997,      0.7007,      0.7017,      0.7027,      0.7037,      0.7047,     0.70571,     0.70671,     0.70771,     0.70871,     0.70971,     0.71071,     0.71171,     0.71271,     0.71371,     0.71471,     0.71572,     0.71672,     0.71772,     0.71872,     0.71972,\n",
            "           0.72072,     0.72172,     0.72272,     0.72372,     0.72472,     0.72573,     0.72673,     0.72773,     0.72873,     0.72973,     0.73073,     0.73173,     0.73273,     0.73373,     0.73473,     0.73574,     0.73674,     0.73774,     0.73874,     0.73974,     0.74074,     0.74174,     0.74274,     0.74374,\n",
            "           0.74474,     0.74575,     0.74675,     0.74775,     0.74875,     0.74975,     0.75075,     0.75175,     0.75275,     0.75375,     0.75475,     0.75576,     0.75676,     0.75776,     0.75876,     0.75976,     0.76076,     0.76176,     0.76276,     0.76376,     0.76476,     0.76577,     0.76677,     0.76777,\n",
            "           0.76877,     0.76977,     0.77077,     0.77177,     0.77277,     0.77377,     0.77477,     0.77578,     0.77678,     0.77778,     0.77878,     0.77978,     0.78078,     0.78178,     0.78278,     0.78378,     0.78478,     0.78579,     0.78679,     0.78779,     0.78879,     0.78979,     0.79079,     0.79179,\n",
            "           0.79279,     0.79379,     0.79479,      0.7958,      0.7968,      0.7978,      0.7988,      0.7998,      0.8008,      0.8018,      0.8028,      0.8038,      0.8048,     0.80581,     0.80681,     0.80781,     0.80881,     0.80981,     0.81081,     0.81181,     0.81281,     0.81381,     0.81481,     0.81582,\n",
            "           0.81682,     0.81782,     0.81882,     0.81982,     0.82082,     0.82182,     0.82282,     0.82382,     0.82482,     0.82583,     0.82683,     0.82783,     0.82883,     0.82983,     0.83083,     0.83183,     0.83283,     0.83383,     0.83483,     0.83584,     0.83684,     0.83784,     0.83884,     0.83984,\n",
            "           0.84084,     0.84184,     0.84284,     0.84384,     0.84484,     0.84585,     0.84685,     0.84785,     0.84885,     0.84985,     0.85085,     0.85185,     0.85285,     0.85385,     0.85485,     0.85586,     0.85686,     0.85786,     0.85886,     0.85986,     0.86086,     0.86186,     0.86286,     0.86386,\n",
            "           0.86486,     0.86587,     0.86687,     0.86787,     0.86887,     0.86987,     0.87087,     0.87187,     0.87287,     0.87387,     0.87487,     0.87588,     0.87688,     0.87788,     0.87888,     0.87988,     0.88088,     0.88188,     0.88288,     0.88388,     0.88488,     0.88589,     0.88689,     0.88789,\n",
            "           0.88889,     0.88989,     0.89089,     0.89189,     0.89289,     0.89389,     0.89489,      0.8959,      0.8969,      0.8979,      0.8989,      0.8999,      0.9009,      0.9019,      0.9029,      0.9039,      0.9049,     0.90591,     0.90691,     0.90791,     0.90891,     0.90991,     0.91091,     0.91191,\n",
            "           0.91291,     0.91391,     0.91491,     0.91592,     0.91692,     0.91792,     0.91892,     0.91992,     0.92092,     0.92192,     0.92292,     0.92392,     0.92492,     0.92593,     0.92693,     0.92793,     0.92893,     0.92993,     0.93093,     0.93193,     0.93293,     0.93393,     0.93493,     0.93594,\n",
            "           0.93694,     0.93794,     0.93894,     0.93994,     0.94094,     0.94194,     0.94294,     0.94394,     0.94494,     0.94595,     0.94695,     0.94795,     0.94895,     0.94995,     0.95095,     0.95195,     0.95295,     0.95395,     0.95495,     0.95596,     0.95696,     0.95796,     0.95896,     0.95996,\n",
            "           0.96096,     0.96196,     0.96296,     0.96396,     0.96496,     0.96597,     0.96697,     0.96797,     0.96897,     0.96997,     0.97097,     0.97197,     0.97297,     0.97397,     0.97497,     0.97598,     0.97698,     0.97798,     0.97898,     0.97998,     0.98098,     0.98198,     0.98298,     0.98398,\n",
            "           0.98498,     0.98599,     0.98699,     0.98799,     0.98899,     0.98999,     0.99099,     0.99199,     0.99299,     0.99399,     0.99499,       0.996,       0.997,       0.998,       0.999,           1]), array([[   0.081784,     0.08226,     0.21482, ...,           0,           0,           0],\n",
            "       [    0.16066,     0.16203,     0.36587, ...,           0,           0,           0],\n",
            "       [   0.087336,    0.087556,      0.2748, ...,           0,           0,           0],\n",
            "       ...,\n",
            "       [    0.18355,     0.18367,     0.39994, ...,           0,           0,           0],\n",
            "       [   0.016555,     0.01663,      0.1189, ...,           0,           0,           0],\n",
            "       [   0.093863,    0.094019,     0.26253, ...,           0,           0,           0]]), 'Confidence', 'F1'], [array([          0,    0.001001,    0.002002,    0.003003,    0.004004,    0.005005,    0.006006,    0.007007,    0.008008,    0.009009,     0.01001,    0.011011,    0.012012,    0.013013,    0.014014,    0.015015,    0.016016,    0.017017,    0.018018,    0.019019,     0.02002,    0.021021,    0.022022,    0.023023,\n",
            "          0.024024,    0.025025,    0.026026,    0.027027,    0.028028,    0.029029,     0.03003,    0.031031,    0.032032,    0.033033,    0.034034,    0.035035,    0.036036,    0.037037,    0.038038,    0.039039,     0.04004,    0.041041,    0.042042,    0.043043,    0.044044,    0.045045,    0.046046,    0.047047,\n",
            "          0.048048,    0.049049,     0.05005,    0.051051,    0.052052,    0.053053,    0.054054,    0.055055,    0.056056,    0.057057,    0.058058,    0.059059,     0.06006,    0.061061,    0.062062,    0.063063,    0.064064,    0.065065,    0.066066,    0.067067,    0.068068,    0.069069,     0.07007,    0.071071,\n",
            "          0.072072,    0.073073,    0.074074,    0.075075,    0.076076,    0.077077,    0.078078,    0.079079,     0.08008,    0.081081,    0.082082,    0.083083,    0.084084,    0.085085,    0.086086,    0.087087,    0.088088,    0.089089,     0.09009,    0.091091,    0.092092,    0.093093,    0.094094,    0.095095,\n",
            "          0.096096,    0.097097,    0.098098,    0.099099,      0.1001,      0.1011,      0.1021,      0.1031,      0.1041,     0.10511,     0.10611,     0.10711,     0.10811,     0.10911,     0.11011,     0.11111,     0.11211,     0.11311,     0.11411,     0.11512,     0.11612,     0.11712,     0.11812,     0.11912,\n",
            "           0.12012,     0.12112,     0.12212,     0.12312,     0.12412,     0.12513,     0.12613,     0.12713,     0.12813,     0.12913,     0.13013,     0.13113,     0.13213,     0.13313,     0.13413,     0.13514,     0.13614,     0.13714,     0.13814,     0.13914,     0.14014,     0.14114,     0.14214,     0.14314,\n",
            "           0.14414,     0.14515,     0.14615,     0.14715,     0.14815,     0.14915,     0.15015,     0.15115,     0.15215,     0.15315,     0.15415,     0.15516,     0.15616,     0.15716,     0.15816,     0.15916,     0.16016,     0.16116,     0.16216,     0.16316,     0.16416,     0.16517,     0.16617,     0.16717,\n",
            "           0.16817,     0.16917,     0.17017,     0.17117,     0.17217,     0.17317,     0.17417,     0.17518,     0.17618,     0.17718,     0.17818,     0.17918,     0.18018,     0.18118,     0.18218,     0.18318,     0.18418,     0.18519,     0.18619,     0.18719,     0.18819,     0.18919,     0.19019,     0.19119,\n",
            "           0.19219,     0.19319,     0.19419,      0.1952,      0.1962,      0.1972,      0.1982,      0.1992,      0.2002,      0.2012,      0.2022,      0.2032,      0.2042,     0.20521,     0.20621,     0.20721,     0.20821,     0.20921,     0.21021,     0.21121,     0.21221,     0.21321,     0.21421,     0.21522,\n",
            "           0.21622,     0.21722,     0.21822,     0.21922,     0.22022,     0.22122,     0.22222,     0.22322,     0.22422,     0.22523,     0.22623,     0.22723,     0.22823,     0.22923,     0.23023,     0.23123,     0.23223,     0.23323,     0.23423,     0.23524,     0.23624,     0.23724,     0.23824,     0.23924,\n",
            "           0.24024,     0.24124,     0.24224,     0.24324,     0.24424,     0.24525,     0.24625,     0.24725,     0.24825,     0.24925,     0.25025,     0.25125,     0.25225,     0.25325,     0.25425,     0.25526,     0.25626,     0.25726,     0.25826,     0.25926,     0.26026,     0.26126,     0.26226,     0.26326,\n",
            "           0.26426,     0.26527,     0.26627,     0.26727,     0.26827,     0.26927,     0.27027,     0.27127,     0.27227,     0.27327,     0.27427,     0.27528,     0.27628,     0.27728,     0.27828,     0.27928,     0.28028,     0.28128,     0.28228,     0.28328,     0.28428,     0.28529,     0.28629,     0.28729,\n",
            "           0.28829,     0.28929,     0.29029,     0.29129,     0.29229,     0.29329,     0.29429,      0.2953,      0.2963,      0.2973,      0.2983,      0.2993,      0.3003,      0.3013,      0.3023,      0.3033,      0.3043,     0.30531,     0.30631,     0.30731,     0.30831,     0.30931,     0.31031,     0.31131,\n",
            "           0.31231,     0.31331,     0.31431,     0.31532,     0.31632,     0.31732,     0.31832,     0.31932,     0.32032,     0.32132,     0.32232,     0.32332,     0.32432,     0.32533,     0.32633,     0.32733,     0.32833,     0.32933,     0.33033,     0.33133,     0.33233,     0.33333,     0.33433,     0.33534,\n",
            "           0.33634,     0.33734,     0.33834,     0.33934,     0.34034,     0.34134,     0.34234,     0.34334,     0.34434,     0.34535,     0.34635,     0.34735,     0.34835,     0.34935,     0.35035,     0.35135,     0.35235,     0.35335,     0.35435,     0.35536,     0.35636,     0.35736,     0.35836,     0.35936,\n",
            "           0.36036,     0.36136,     0.36236,     0.36336,     0.36436,     0.36537,     0.36637,     0.36737,     0.36837,     0.36937,     0.37037,     0.37137,     0.37237,     0.37337,     0.37437,     0.37538,     0.37638,     0.37738,     0.37838,     0.37938,     0.38038,     0.38138,     0.38238,     0.38338,\n",
            "           0.38438,     0.38539,     0.38639,     0.38739,     0.38839,     0.38939,     0.39039,     0.39139,     0.39239,     0.39339,     0.39439,      0.3954,      0.3964,      0.3974,      0.3984,      0.3994,      0.4004,      0.4014,      0.4024,      0.4034,      0.4044,     0.40541,     0.40641,     0.40741,\n",
            "           0.40841,     0.40941,     0.41041,     0.41141,     0.41241,     0.41341,     0.41441,     0.41542,     0.41642,     0.41742,     0.41842,     0.41942,     0.42042,     0.42142,     0.42242,     0.42342,     0.42442,     0.42543,     0.42643,     0.42743,     0.42843,     0.42943,     0.43043,     0.43143,\n",
            "           0.43243,     0.43343,     0.43443,     0.43544,     0.43644,     0.43744,     0.43844,     0.43944,     0.44044,     0.44144,     0.44244,     0.44344,     0.44444,     0.44545,     0.44645,     0.44745,     0.44845,     0.44945,     0.45045,     0.45145,     0.45245,     0.45345,     0.45445,     0.45546,\n",
            "           0.45646,     0.45746,     0.45846,     0.45946,     0.46046,     0.46146,     0.46246,     0.46346,     0.46446,     0.46547,     0.46647,     0.46747,     0.46847,     0.46947,     0.47047,     0.47147,     0.47247,     0.47347,     0.47447,     0.47548,     0.47648,     0.47748,     0.47848,     0.47948,\n",
            "           0.48048,     0.48148,     0.48248,     0.48348,     0.48448,     0.48549,     0.48649,     0.48749,     0.48849,     0.48949,     0.49049,     0.49149,     0.49249,     0.49349,     0.49449,      0.4955,      0.4965,      0.4975,      0.4985,      0.4995,      0.5005,      0.5015,      0.5025,      0.5035,\n",
            "            0.5045,     0.50551,     0.50651,     0.50751,     0.50851,     0.50951,     0.51051,     0.51151,     0.51251,     0.51351,     0.51451,     0.51552,     0.51652,     0.51752,     0.51852,     0.51952,     0.52052,     0.52152,     0.52252,     0.52352,     0.52452,     0.52553,     0.52653,     0.52753,\n",
            "           0.52853,     0.52953,     0.53053,     0.53153,     0.53253,     0.53353,     0.53453,     0.53554,     0.53654,     0.53754,     0.53854,     0.53954,     0.54054,     0.54154,     0.54254,     0.54354,     0.54454,     0.54555,     0.54655,     0.54755,     0.54855,     0.54955,     0.55055,     0.55155,\n",
            "           0.55255,     0.55355,     0.55455,     0.55556,     0.55656,     0.55756,     0.55856,     0.55956,     0.56056,     0.56156,     0.56256,     0.56356,     0.56456,     0.56557,     0.56657,     0.56757,     0.56857,     0.56957,     0.57057,     0.57157,     0.57257,     0.57357,     0.57457,     0.57558,\n",
            "           0.57658,     0.57758,     0.57858,     0.57958,     0.58058,     0.58158,     0.58258,     0.58358,     0.58458,     0.58559,     0.58659,     0.58759,     0.58859,     0.58959,     0.59059,     0.59159,     0.59259,     0.59359,     0.59459,      0.5956,      0.5966,      0.5976,      0.5986,      0.5996,\n",
            "            0.6006,      0.6016,      0.6026,      0.6036,      0.6046,     0.60561,     0.60661,     0.60761,     0.60861,     0.60961,     0.61061,     0.61161,     0.61261,     0.61361,     0.61461,     0.61562,     0.61662,     0.61762,     0.61862,     0.61962,     0.62062,     0.62162,     0.62262,     0.62362,\n",
            "           0.62462,     0.62563,     0.62663,     0.62763,     0.62863,     0.62963,     0.63063,     0.63163,     0.63263,     0.63363,     0.63463,     0.63564,     0.63664,     0.63764,     0.63864,     0.63964,     0.64064,     0.64164,     0.64264,     0.64364,     0.64464,     0.64565,     0.64665,     0.64765,\n",
            "           0.64865,     0.64965,     0.65065,     0.65165,     0.65265,     0.65365,     0.65465,     0.65566,     0.65666,     0.65766,     0.65866,     0.65966,     0.66066,     0.66166,     0.66266,     0.66366,     0.66466,     0.66567,     0.66667,     0.66767,     0.66867,     0.66967,     0.67067,     0.67167,\n",
            "           0.67267,     0.67367,     0.67467,     0.67568,     0.67668,     0.67768,     0.67868,     0.67968,     0.68068,     0.68168,     0.68268,     0.68368,     0.68468,     0.68569,     0.68669,     0.68769,     0.68869,     0.68969,     0.69069,     0.69169,     0.69269,     0.69369,     0.69469,      0.6957,\n",
            "            0.6967,      0.6977,      0.6987,      0.6997,      0.7007,      0.7017,      0.7027,      0.7037,      0.7047,     0.70571,     0.70671,     0.70771,     0.70871,     0.70971,     0.71071,     0.71171,     0.71271,     0.71371,     0.71471,     0.71572,     0.71672,     0.71772,     0.71872,     0.71972,\n",
            "           0.72072,     0.72172,     0.72272,     0.72372,     0.72472,     0.72573,     0.72673,     0.72773,     0.72873,     0.72973,     0.73073,     0.73173,     0.73273,     0.73373,     0.73473,     0.73574,     0.73674,     0.73774,     0.73874,     0.73974,     0.74074,     0.74174,     0.74274,     0.74374,\n",
            "           0.74474,     0.74575,     0.74675,     0.74775,     0.74875,     0.74975,     0.75075,     0.75175,     0.75275,     0.75375,     0.75475,     0.75576,     0.75676,     0.75776,     0.75876,     0.75976,     0.76076,     0.76176,     0.76276,     0.76376,     0.76476,     0.76577,     0.76677,     0.76777,\n",
            "           0.76877,     0.76977,     0.77077,     0.77177,     0.77277,     0.77377,     0.77477,     0.77578,     0.77678,     0.77778,     0.77878,     0.77978,     0.78078,     0.78178,     0.78278,     0.78378,     0.78478,     0.78579,     0.78679,     0.78779,     0.78879,     0.78979,     0.79079,     0.79179,\n",
            "           0.79279,     0.79379,     0.79479,      0.7958,      0.7968,      0.7978,      0.7988,      0.7998,      0.8008,      0.8018,      0.8028,      0.8038,      0.8048,     0.80581,     0.80681,     0.80781,     0.80881,     0.80981,     0.81081,     0.81181,     0.81281,     0.81381,     0.81481,     0.81582,\n",
            "           0.81682,     0.81782,     0.81882,     0.81982,     0.82082,     0.82182,     0.82282,     0.82382,     0.82482,     0.82583,     0.82683,     0.82783,     0.82883,     0.82983,     0.83083,     0.83183,     0.83283,     0.83383,     0.83483,     0.83584,     0.83684,     0.83784,     0.83884,     0.83984,\n",
            "           0.84084,     0.84184,     0.84284,     0.84384,     0.84484,     0.84585,     0.84685,     0.84785,     0.84885,     0.84985,     0.85085,     0.85185,     0.85285,     0.85385,     0.85485,     0.85586,     0.85686,     0.85786,     0.85886,     0.85986,     0.86086,     0.86186,     0.86286,     0.86386,\n",
            "           0.86486,     0.86587,     0.86687,     0.86787,     0.86887,     0.86987,     0.87087,     0.87187,     0.87287,     0.87387,     0.87487,     0.87588,     0.87688,     0.87788,     0.87888,     0.87988,     0.88088,     0.88188,     0.88288,     0.88388,     0.88488,     0.88589,     0.88689,     0.88789,\n",
            "           0.88889,     0.88989,     0.89089,     0.89189,     0.89289,     0.89389,     0.89489,      0.8959,      0.8969,      0.8979,      0.8989,      0.8999,      0.9009,      0.9019,      0.9029,      0.9039,      0.9049,     0.90591,     0.90691,     0.90791,     0.90891,     0.90991,     0.91091,     0.91191,\n",
            "           0.91291,     0.91391,     0.91491,     0.91592,     0.91692,     0.91792,     0.91892,     0.91992,     0.92092,     0.92192,     0.92292,     0.92392,     0.92492,     0.92593,     0.92693,     0.92793,     0.92893,     0.92993,     0.93093,     0.93193,     0.93293,     0.93393,     0.93493,     0.93594,\n",
            "           0.93694,     0.93794,     0.93894,     0.93994,     0.94094,     0.94194,     0.94294,     0.94394,     0.94494,     0.94595,     0.94695,     0.94795,     0.94895,     0.94995,     0.95095,     0.95195,     0.95295,     0.95395,     0.95495,     0.95596,     0.95696,     0.95796,     0.95896,     0.95996,\n",
            "           0.96096,     0.96196,     0.96296,     0.96396,     0.96496,     0.96597,     0.96697,     0.96797,     0.96897,     0.96997,     0.97097,     0.97197,     0.97297,     0.97397,     0.97497,     0.97598,     0.97698,     0.97798,     0.97898,     0.97998,     0.98098,     0.98198,     0.98298,     0.98398,\n",
            "           0.98498,     0.98599,     0.98699,     0.98799,     0.98899,     0.98999,     0.99099,     0.99199,     0.99299,     0.99399,     0.99499,       0.996,       0.997,       0.998,       0.999,           1]), array([[   0.042636,    0.042894,     0.12034, ...,           1,           1,           1],\n",
            "       [   0.087349,    0.088155,     0.22389, ...,           1,           1,           1],\n",
            "       [   0.045662,    0.045782,     0.15929, ...,           1,           1,           1],\n",
            "       ...,\n",
            "       [    0.10105,     0.10112,     0.24995, ...,           1,           1,           1],\n",
            "       [  0.0083464,    0.008385,    0.063209, ...,           1,           1,           1],\n",
            "       [   0.049242,    0.049329,      0.1511, ...,           1,           1,           1]]), 'Confidence', 'Precision'], [array([          0,    0.001001,    0.002002,    0.003003,    0.004004,    0.005005,    0.006006,    0.007007,    0.008008,    0.009009,     0.01001,    0.011011,    0.012012,    0.013013,    0.014014,    0.015015,    0.016016,    0.017017,    0.018018,    0.019019,     0.02002,    0.021021,    0.022022,    0.023023,\n",
            "          0.024024,    0.025025,    0.026026,    0.027027,    0.028028,    0.029029,     0.03003,    0.031031,    0.032032,    0.033033,    0.034034,    0.035035,    0.036036,    0.037037,    0.038038,    0.039039,     0.04004,    0.041041,    0.042042,    0.043043,    0.044044,    0.045045,    0.046046,    0.047047,\n",
            "          0.048048,    0.049049,     0.05005,    0.051051,    0.052052,    0.053053,    0.054054,    0.055055,    0.056056,    0.057057,    0.058058,    0.059059,     0.06006,    0.061061,    0.062062,    0.063063,    0.064064,    0.065065,    0.066066,    0.067067,    0.068068,    0.069069,     0.07007,    0.071071,\n",
            "          0.072072,    0.073073,    0.074074,    0.075075,    0.076076,    0.077077,    0.078078,    0.079079,     0.08008,    0.081081,    0.082082,    0.083083,    0.084084,    0.085085,    0.086086,    0.087087,    0.088088,    0.089089,     0.09009,    0.091091,    0.092092,    0.093093,    0.094094,    0.095095,\n",
            "          0.096096,    0.097097,    0.098098,    0.099099,      0.1001,      0.1011,      0.1021,      0.1031,      0.1041,     0.10511,     0.10611,     0.10711,     0.10811,     0.10911,     0.11011,     0.11111,     0.11211,     0.11311,     0.11411,     0.11512,     0.11612,     0.11712,     0.11812,     0.11912,\n",
            "           0.12012,     0.12112,     0.12212,     0.12312,     0.12412,     0.12513,     0.12613,     0.12713,     0.12813,     0.12913,     0.13013,     0.13113,     0.13213,     0.13313,     0.13413,     0.13514,     0.13614,     0.13714,     0.13814,     0.13914,     0.14014,     0.14114,     0.14214,     0.14314,\n",
            "           0.14414,     0.14515,     0.14615,     0.14715,     0.14815,     0.14915,     0.15015,     0.15115,     0.15215,     0.15315,     0.15415,     0.15516,     0.15616,     0.15716,     0.15816,     0.15916,     0.16016,     0.16116,     0.16216,     0.16316,     0.16416,     0.16517,     0.16617,     0.16717,\n",
            "           0.16817,     0.16917,     0.17017,     0.17117,     0.17217,     0.17317,     0.17417,     0.17518,     0.17618,     0.17718,     0.17818,     0.17918,     0.18018,     0.18118,     0.18218,     0.18318,     0.18418,     0.18519,     0.18619,     0.18719,     0.18819,     0.18919,     0.19019,     0.19119,\n",
            "           0.19219,     0.19319,     0.19419,      0.1952,      0.1962,      0.1972,      0.1982,      0.1992,      0.2002,      0.2012,      0.2022,      0.2032,      0.2042,     0.20521,     0.20621,     0.20721,     0.20821,     0.20921,     0.21021,     0.21121,     0.21221,     0.21321,     0.21421,     0.21522,\n",
            "           0.21622,     0.21722,     0.21822,     0.21922,     0.22022,     0.22122,     0.22222,     0.22322,     0.22422,     0.22523,     0.22623,     0.22723,     0.22823,     0.22923,     0.23023,     0.23123,     0.23223,     0.23323,     0.23423,     0.23524,     0.23624,     0.23724,     0.23824,     0.23924,\n",
            "           0.24024,     0.24124,     0.24224,     0.24324,     0.24424,     0.24525,     0.24625,     0.24725,     0.24825,     0.24925,     0.25025,     0.25125,     0.25225,     0.25325,     0.25425,     0.25526,     0.25626,     0.25726,     0.25826,     0.25926,     0.26026,     0.26126,     0.26226,     0.26326,\n",
            "           0.26426,     0.26527,     0.26627,     0.26727,     0.26827,     0.26927,     0.27027,     0.27127,     0.27227,     0.27327,     0.27427,     0.27528,     0.27628,     0.27728,     0.27828,     0.27928,     0.28028,     0.28128,     0.28228,     0.28328,     0.28428,     0.28529,     0.28629,     0.28729,\n",
            "           0.28829,     0.28929,     0.29029,     0.29129,     0.29229,     0.29329,     0.29429,      0.2953,      0.2963,      0.2973,      0.2983,      0.2993,      0.3003,      0.3013,      0.3023,      0.3033,      0.3043,     0.30531,     0.30631,     0.30731,     0.30831,     0.30931,     0.31031,     0.31131,\n",
            "           0.31231,     0.31331,     0.31431,     0.31532,     0.31632,     0.31732,     0.31832,     0.31932,     0.32032,     0.32132,     0.32232,     0.32332,     0.32432,     0.32533,     0.32633,     0.32733,     0.32833,     0.32933,     0.33033,     0.33133,     0.33233,     0.33333,     0.33433,     0.33534,\n",
            "           0.33634,     0.33734,     0.33834,     0.33934,     0.34034,     0.34134,     0.34234,     0.34334,     0.34434,     0.34535,     0.34635,     0.34735,     0.34835,     0.34935,     0.35035,     0.35135,     0.35235,     0.35335,     0.35435,     0.35536,     0.35636,     0.35736,     0.35836,     0.35936,\n",
            "           0.36036,     0.36136,     0.36236,     0.36336,     0.36436,     0.36537,     0.36637,     0.36737,     0.36837,     0.36937,     0.37037,     0.37137,     0.37237,     0.37337,     0.37437,     0.37538,     0.37638,     0.37738,     0.37838,     0.37938,     0.38038,     0.38138,     0.38238,     0.38338,\n",
            "           0.38438,     0.38539,     0.38639,     0.38739,     0.38839,     0.38939,     0.39039,     0.39139,     0.39239,     0.39339,     0.39439,      0.3954,      0.3964,      0.3974,      0.3984,      0.3994,      0.4004,      0.4014,      0.4024,      0.4034,      0.4044,     0.40541,     0.40641,     0.40741,\n",
            "           0.40841,     0.40941,     0.41041,     0.41141,     0.41241,     0.41341,     0.41441,     0.41542,     0.41642,     0.41742,     0.41842,     0.41942,     0.42042,     0.42142,     0.42242,     0.42342,     0.42442,     0.42543,     0.42643,     0.42743,     0.42843,     0.42943,     0.43043,     0.43143,\n",
            "           0.43243,     0.43343,     0.43443,     0.43544,     0.43644,     0.43744,     0.43844,     0.43944,     0.44044,     0.44144,     0.44244,     0.44344,     0.44444,     0.44545,     0.44645,     0.44745,     0.44845,     0.44945,     0.45045,     0.45145,     0.45245,     0.45345,     0.45445,     0.45546,\n",
            "           0.45646,     0.45746,     0.45846,     0.45946,     0.46046,     0.46146,     0.46246,     0.46346,     0.46446,     0.46547,     0.46647,     0.46747,     0.46847,     0.46947,     0.47047,     0.47147,     0.47247,     0.47347,     0.47447,     0.47548,     0.47648,     0.47748,     0.47848,     0.47948,\n",
            "           0.48048,     0.48148,     0.48248,     0.48348,     0.48448,     0.48549,     0.48649,     0.48749,     0.48849,     0.48949,     0.49049,     0.49149,     0.49249,     0.49349,     0.49449,      0.4955,      0.4965,      0.4975,      0.4985,      0.4995,      0.5005,      0.5015,      0.5025,      0.5035,\n",
            "            0.5045,     0.50551,     0.50651,     0.50751,     0.50851,     0.50951,     0.51051,     0.51151,     0.51251,     0.51351,     0.51451,     0.51552,     0.51652,     0.51752,     0.51852,     0.51952,     0.52052,     0.52152,     0.52252,     0.52352,     0.52452,     0.52553,     0.52653,     0.52753,\n",
            "           0.52853,     0.52953,     0.53053,     0.53153,     0.53253,     0.53353,     0.53453,     0.53554,     0.53654,     0.53754,     0.53854,     0.53954,     0.54054,     0.54154,     0.54254,     0.54354,     0.54454,     0.54555,     0.54655,     0.54755,     0.54855,     0.54955,     0.55055,     0.55155,\n",
            "           0.55255,     0.55355,     0.55455,     0.55556,     0.55656,     0.55756,     0.55856,     0.55956,     0.56056,     0.56156,     0.56256,     0.56356,     0.56456,     0.56557,     0.56657,     0.56757,     0.56857,     0.56957,     0.57057,     0.57157,     0.57257,     0.57357,     0.57457,     0.57558,\n",
            "           0.57658,     0.57758,     0.57858,     0.57958,     0.58058,     0.58158,     0.58258,     0.58358,     0.58458,     0.58559,     0.58659,     0.58759,     0.58859,     0.58959,     0.59059,     0.59159,     0.59259,     0.59359,     0.59459,      0.5956,      0.5966,      0.5976,      0.5986,      0.5996,\n",
            "            0.6006,      0.6016,      0.6026,      0.6036,      0.6046,     0.60561,     0.60661,     0.60761,     0.60861,     0.60961,     0.61061,     0.61161,     0.61261,     0.61361,     0.61461,     0.61562,     0.61662,     0.61762,     0.61862,     0.61962,     0.62062,     0.62162,     0.62262,     0.62362,\n",
            "           0.62462,     0.62563,     0.62663,     0.62763,     0.62863,     0.62963,     0.63063,     0.63163,     0.63263,     0.63363,     0.63463,     0.63564,     0.63664,     0.63764,     0.63864,     0.63964,     0.64064,     0.64164,     0.64264,     0.64364,     0.64464,     0.64565,     0.64665,     0.64765,\n",
            "           0.64865,     0.64965,     0.65065,     0.65165,     0.65265,     0.65365,     0.65465,     0.65566,     0.65666,     0.65766,     0.65866,     0.65966,     0.66066,     0.66166,     0.66266,     0.66366,     0.66466,     0.66567,     0.66667,     0.66767,     0.66867,     0.66967,     0.67067,     0.67167,\n",
            "           0.67267,     0.67367,     0.67467,     0.67568,     0.67668,     0.67768,     0.67868,     0.67968,     0.68068,     0.68168,     0.68268,     0.68368,     0.68468,     0.68569,     0.68669,     0.68769,     0.68869,     0.68969,     0.69069,     0.69169,     0.69269,     0.69369,     0.69469,      0.6957,\n",
            "            0.6967,      0.6977,      0.6987,      0.6997,      0.7007,      0.7017,      0.7027,      0.7037,      0.7047,     0.70571,     0.70671,     0.70771,     0.70871,     0.70971,     0.71071,     0.71171,     0.71271,     0.71371,     0.71471,     0.71572,     0.71672,     0.71772,     0.71872,     0.71972,\n",
            "           0.72072,     0.72172,     0.72272,     0.72372,     0.72472,     0.72573,     0.72673,     0.72773,     0.72873,     0.72973,     0.73073,     0.73173,     0.73273,     0.73373,     0.73473,     0.73574,     0.73674,     0.73774,     0.73874,     0.73974,     0.74074,     0.74174,     0.74274,     0.74374,\n",
            "           0.74474,     0.74575,     0.74675,     0.74775,     0.74875,     0.74975,     0.75075,     0.75175,     0.75275,     0.75375,     0.75475,     0.75576,     0.75676,     0.75776,     0.75876,     0.75976,     0.76076,     0.76176,     0.76276,     0.76376,     0.76476,     0.76577,     0.76677,     0.76777,\n",
            "           0.76877,     0.76977,     0.77077,     0.77177,     0.77277,     0.77377,     0.77477,     0.77578,     0.77678,     0.77778,     0.77878,     0.77978,     0.78078,     0.78178,     0.78278,     0.78378,     0.78478,     0.78579,     0.78679,     0.78779,     0.78879,     0.78979,     0.79079,     0.79179,\n",
            "           0.79279,     0.79379,     0.79479,      0.7958,      0.7968,      0.7978,      0.7988,      0.7998,      0.8008,      0.8018,      0.8028,      0.8038,      0.8048,     0.80581,     0.80681,     0.80781,     0.80881,     0.80981,     0.81081,     0.81181,     0.81281,     0.81381,     0.81481,     0.81582,\n",
            "           0.81682,     0.81782,     0.81882,     0.81982,     0.82082,     0.82182,     0.82282,     0.82382,     0.82482,     0.82583,     0.82683,     0.82783,     0.82883,     0.82983,     0.83083,     0.83183,     0.83283,     0.83383,     0.83483,     0.83584,     0.83684,     0.83784,     0.83884,     0.83984,\n",
            "           0.84084,     0.84184,     0.84284,     0.84384,     0.84484,     0.84585,     0.84685,     0.84785,     0.84885,     0.84985,     0.85085,     0.85185,     0.85285,     0.85385,     0.85485,     0.85586,     0.85686,     0.85786,     0.85886,     0.85986,     0.86086,     0.86186,     0.86286,     0.86386,\n",
            "           0.86486,     0.86587,     0.86687,     0.86787,     0.86887,     0.86987,     0.87087,     0.87187,     0.87287,     0.87387,     0.87487,     0.87588,     0.87688,     0.87788,     0.87888,     0.87988,     0.88088,     0.88188,     0.88288,     0.88388,     0.88488,     0.88589,     0.88689,     0.88789,\n",
            "           0.88889,     0.88989,     0.89089,     0.89189,     0.89289,     0.89389,     0.89489,      0.8959,      0.8969,      0.8979,      0.8989,      0.8999,      0.9009,      0.9019,      0.9029,      0.9039,      0.9049,     0.90591,     0.90691,     0.90791,     0.90891,     0.90991,     0.91091,     0.91191,\n",
            "           0.91291,     0.91391,     0.91491,     0.91592,     0.91692,     0.91792,     0.91892,     0.91992,     0.92092,     0.92192,     0.92292,     0.92392,     0.92492,     0.92593,     0.92693,     0.92793,     0.92893,     0.92993,     0.93093,     0.93193,     0.93293,     0.93393,     0.93493,     0.93594,\n",
            "           0.93694,     0.93794,     0.93894,     0.93994,     0.94094,     0.94194,     0.94294,     0.94394,     0.94494,     0.94595,     0.94695,     0.94795,     0.94895,     0.94995,     0.95095,     0.95195,     0.95295,     0.95395,     0.95495,     0.95596,     0.95696,     0.95796,     0.95896,     0.95996,\n",
            "           0.96096,     0.96196,     0.96296,     0.96396,     0.96496,     0.96597,     0.96697,     0.96797,     0.96897,     0.96997,     0.97097,     0.97197,     0.97297,     0.97397,     0.97497,     0.97598,     0.97698,     0.97798,     0.97898,     0.97998,     0.98098,     0.98198,     0.98298,     0.98398,\n",
            "           0.98498,     0.98599,     0.98699,     0.98799,     0.98899,     0.98999,     0.99099,     0.99199,     0.99299,     0.99399,     0.99499,       0.996,       0.997,       0.998,       0.999,           1]), array([[          1,           1,           1, ...,           0,           0,           0],\n",
            "       [          1,           1,           1, ...,           0,           0,           0],\n",
            "       [          1,           1,           1, ...,           0,           0,           0],\n",
            "       ...,\n",
            "       [          1,           1,           1, ...,           0,           0,           0],\n",
            "       [          1,           1,           1, ...,           0,           0,           0],\n",
            "       [          1,           1,           1, ...,           0,           0,           0]]), 'Confidence', 'Recall']]\n",
            "fitness: np.float64(0.8085925252629755)\n",
            "keys: ['metrics/precision(B)', 'metrics/recall(B)', 'metrics/mAP50(B)', 'metrics/mAP50-95(B)']\n",
            "maps: array([    0.78873,     0.70022,     0.82694,     0.78964,     0.79121,     0.80391,     0.74304,     0.79119,     0.82979,      0.7985,     0.78716,     0.80007,     0.80304])\n",
            "names: {0: 'bishop', 1: 'black-bishop', 2: 'black-king', 3: 'black-knight', 4: 'black-pawn', 5: 'black-queen', 6: 'black-rook', 7: 'white-bishop', 8: 'white-king', 9: 'white-knight', 10: 'white-pawn', 11: 'white-queen', 12: 'white-rook'}\n",
            "nt_per_class: array([ 0, 22, 29, 30, 77, 11, 28, 22, 29, 19, 77, 16, 26])\n",
            "nt_per_image: array([ 0, 13, 29, 26, 25, 11, 24, 17, 29, 17, 26, 16, 18])\n",
            "results_dict: {'metrics/precision(B)': np.float64(0.9772015914276548), 'metrics/recall(B)': np.float64(0.9825626798225531), 'metrics/mAP50(B)': np.float64(0.9873961568322981), 'metrics/mAP50-95(B)': np.float64(0.7887254550886063), 'fitness': np.float64(0.8085925252629755)}\n",
            "save_dir: PosixPath('runs/detect/train2')\n",
            "speed: {'preprocess': 14.79964277586595, 'inference': 16.982562862067585, 'loss': 0.0010905000008592494, 'postprocess': 6.48063849999697}\n",
            "stats: {'tp': [], 'conf': [], 'pred_cls': [], 'target_cls': [], 'target_img': []}\n",
            "task: 'detect'\n"
          ]
        }
      ]
    },
    {
      "cell_type": "code",
      "metadata": {
        "colab": {
          "base_uri": "https://localhost:8080/",
          "height": 375
        },
        "id": "eb2b1236",
        "outputId": "70f47407-f8e5-4634-bd01-df5c7e2358a9"
      },
      "source": [
        "model.export(format=\"onnx\")  # or \"tflite\", \"torchscript\"\n"
      ],
      "execution_count": 32,
      "outputs": [
        {
          "output_type": "stream",
          "name": "stdout",
          "text": [
            "Ultralytics 8.3.165 🚀 Python-3.11.13 torch-2.6.0+cu124 CPU (Intel Xeon 2.20GHz)\n",
            "💡 ProTip: Export to OpenVINO format for best performance on Intel hardware. Learn more at https://docs.ultralytics.com/integrations/openvino/\n",
            "\n",
            "\u001b[34m\u001b[1mPyTorch:\u001b[0m starting from 'runs/detect/train/weights/best.pt' with input shape (1, 3, 640, 640) BCHW and output shape(s) (1, 17, 8400) (6.0 MB)\n",
            "\u001b[31m\u001b[1mrequirements:\u001b[0m Ultralytics requirements ['onnx>=1.12.0,<1.18.0', 'onnxslim>=0.1.59', 'onnxruntime-gpu'] not found, attempting AutoUpdate...\n",
            "\n",
            "\u001b[31m\u001b[1mrequirements:\u001b[0m AutoUpdate success ✅ 6.1s\n",
            "WARNING ⚠️ \u001b[31m\u001b[1mrequirements:\u001b[0m \u001b[1mRestart runtime or rerun command for updates to take effect\u001b[0m\n",
            "\n",
            "\n",
            "\u001b[34m\u001b[1mONNX:\u001b[0m starting export with onnx 1.17.0 opset 19...\n",
            "\u001b[34m\u001b[1mONNX:\u001b[0m slimming with onnxslim 0.1.59...\n",
            "\u001b[34m\u001b[1mONNX:\u001b[0m export success ✅ 7.9s, saved as 'runs/detect/train/weights/best.onnx' (11.7 MB)\n",
            "\n",
            "Export complete (8.4s)\n",
            "Results saved to \u001b[1m/content/runs/detect/train/weights\u001b[0m\n",
            "Predict:         yolo predict task=detect model=runs/detect/train/weights/best.onnx imgsz=640  \n",
            "Validate:        yolo val task=detect model=runs/detect/train/weights/best.onnx imgsz=640 data=/tmp/tmpsin358tv.yaml  \n",
            "Visualize:       https://netron.app\n"
          ]
        },
        {
          "output_type": "execute_result",
          "data": {
            "text/plain": [
              "'runs/detect/train/weights/best.onnx'"
            ],
            "application/vnd.google.colaboratory.intrinsic+json": {
              "type": "string"
            }
          },
          "metadata": {},
          "execution_count": 32
        }
      ]
    },
    {
      "cell_type": "code",
      "source": [
        "from google.colab import files\n",
        "files.download(\"/content/runs/detect/train/weights/best.onnx\")\n"
      ],
      "metadata": {
        "colab": {
          "base_uri": "https://localhost:8080/",
          "height": 17
        },
        "id": "jMkfte_cck1U",
        "outputId": "0aaa5295-7d50-4577-c56a-6800eb51a336"
      },
      "execution_count": 33,
      "outputs": [
        {
          "output_type": "display_data",
          "data": {
            "text/plain": [
              "<IPython.core.display.Javascript object>"
            ],
            "application/javascript": [
              "\n",
              "    async function download(id, filename, size) {\n",
              "      if (!google.colab.kernel.accessAllowed) {\n",
              "        return;\n",
              "      }\n",
              "      const div = document.createElement('div');\n",
              "      const label = document.createElement('label');\n",
              "      label.textContent = `Downloading \"${filename}\": `;\n",
              "      div.appendChild(label);\n",
              "      const progress = document.createElement('progress');\n",
              "      progress.max = size;\n",
              "      div.appendChild(progress);\n",
              "      document.body.appendChild(div);\n",
              "\n",
              "      const buffers = [];\n",
              "      let downloaded = 0;\n",
              "\n",
              "      const channel = await google.colab.kernel.comms.open(id);\n",
              "      // Send a message to notify the kernel that we're ready.\n",
              "      channel.send({})\n",
              "\n",
              "      for await (const message of channel.messages) {\n",
              "        // Send a message to notify the kernel that we're ready.\n",
              "        channel.send({})\n",
              "        if (message.buffers) {\n",
              "          for (const buffer of message.buffers) {\n",
              "            buffers.push(buffer);\n",
              "            downloaded += buffer.byteLength;\n",
              "            progress.value = downloaded;\n",
              "          }\n",
              "        }\n",
              "      }\n",
              "      const blob = new Blob(buffers, {type: 'application/binary'});\n",
              "      const a = document.createElement('a');\n",
              "      a.href = window.URL.createObjectURL(blob);\n",
              "      a.download = filename;\n",
              "      div.appendChild(a);\n",
              "      a.click();\n",
              "      div.remove();\n",
              "    }\n",
              "  "
            ]
          },
          "metadata": {}
        },
        {
          "output_type": "display_data",
          "data": {
            "text/plain": [
              "<IPython.core.display.Javascript object>"
            ],
            "application/javascript": [
              "download(\"download_9110910d-5ecf-4480-aa76-87e9618bf8e9\", \"best.onnx\", 12260634)"
            ]
          },
          "metadata": {}
        }
      ]
    }
  ]
}